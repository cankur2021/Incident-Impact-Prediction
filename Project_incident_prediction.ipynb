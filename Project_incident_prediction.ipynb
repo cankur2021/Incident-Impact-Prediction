{
 "cells": [
  {
   "cell_type": "markdown",
   "metadata": {},
   "source": [
    "# Predict the impact of the incident raised by the customer.\n",
    "\n"
   ]
  },
  {
   "cell_type": "code",
   "execution_count": 126,
   "metadata": {},
   "outputs": [],
   "source": [
    "#Import Libraries\n",
    "import pandas as pd\n",
    "import numpy as np\n",
    "#import pandas_profiling as pp\n",
    "from sklearn.preprocessing import LabelEncoder\n",
    "from matplotlib import pyplot"
   ]
  },
  {
   "cell_type": "markdown",
   "metadata": {},
   "source": [
    "## The data\n",
    "Let's start by reading in the incident_event_log.csv file into a pandas dataframe."
   ]
  },
  {
   "cell_type": "code",
   "execution_count": 127,
   "metadata": {},
   "outputs": [],
   "source": [
    "#Load the Data\n",
    "data= pd.read_csv(\"incident_event_log.csv\")"
   ]
  },
  {
   "cell_type": "code",
   "execution_count": 128,
   "metadata": {},
   "outputs": [
    {
     "data": {
      "text/html": [
       "<div>\n",
       "<style scoped>\n",
       "    .dataframe tbody tr th:only-of-type {\n",
       "        vertical-align: middle;\n",
       "    }\n",
       "\n",
       "    .dataframe tbody tr th {\n",
       "        vertical-align: top;\n",
       "    }\n",
       "\n",
       "    .dataframe thead th {\n",
       "        text-align: right;\n",
       "    }\n",
       "</style>\n",
       "<table border=\"1\" class=\"dataframe\">\n",
       "  <thead>\n",
       "    <tr style=\"text-align: right;\">\n",
       "      <th></th>\n",
       "      <th>number</th>\n",
       "      <th>incident_state</th>\n",
       "      <th>active</th>\n",
       "      <th>reassignment_count</th>\n",
       "      <th>reopen_count</th>\n",
       "      <th>sys_mod_count</th>\n",
       "      <th>made_sla</th>\n",
       "      <th>caller_id</th>\n",
       "      <th>opened_by</th>\n",
       "      <th>opened_at</th>\n",
       "      <th>...</th>\n",
       "      <th>u_priority_confirmation</th>\n",
       "      <th>notify</th>\n",
       "      <th>problem_id</th>\n",
       "      <th>rfc</th>\n",
       "      <th>vendor</th>\n",
       "      <th>caused_by</th>\n",
       "      <th>closed_code</th>\n",
       "      <th>resolved_by</th>\n",
       "      <th>resolved_at</th>\n",
       "      <th>closed_at</th>\n",
       "    </tr>\n",
       "  </thead>\n",
       "  <tbody>\n",
       "    <tr>\n",
       "      <th>0</th>\n",
       "      <td>INC0000045</td>\n",
       "      <td>New</td>\n",
       "      <td>True</td>\n",
       "      <td>0</td>\n",
       "      <td>0</td>\n",
       "      <td>0</td>\n",
       "      <td>True</td>\n",
       "      <td>Caller 2403</td>\n",
       "      <td>Opened by  8</td>\n",
       "      <td>29-02-2016 01:16</td>\n",
       "      <td>...</td>\n",
       "      <td>False</td>\n",
       "      <td>Do Not Notify</td>\n",
       "      <td>?</td>\n",
       "      <td>?</td>\n",
       "      <td>?</td>\n",
       "      <td>?</td>\n",
       "      <td>code 5</td>\n",
       "      <td>Resolved by 149</td>\n",
       "      <td>29-02-2016 11:29</td>\n",
       "      <td>05-03-2016 12:00</td>\n",
       "    </tr>\n",
       "    <tr>\n",
       "      <th>1</th>\n",
       "      <td>INC0000045</td>\n",
       "      <td>Resolved</td>\n",
       "      <td>True</td>\n",
       "      <td>0</td>\n",
       "      <td>0</td>\n",
       "      <td>2</td>\n",
       "      <td>True</td>\n",
       "      <td>Caller 2403</td>\n",
       "      <td>Opened by  8</td>\n",
       "      <td>29-02-2016 01:16</td>\n",
       "      <td>...</td>\n",
       "      <td>False</td>\n",
       "      <td>Do Not Notify</td>\n",
       "      <td>?</td>\n",
       "      <td>?</td>\n",
       "      <td>?</td>\n",
       "      <td>?</td>\n",
       "      <td>code 5</td>\n",
       "      <td>Resolved by 149</td>\n",
       "      <td>29-02-2016 11:29</td>\n",
       "      <td>05-03-2016 12:00</td>\n",
       "    </tr>\n",
       "    <tr>\n",
       "      <th>2</th>\n",
       "      <td>INC0000045</td>\n",
       "      <td>Resolved</td>\n",
       "      <td>True</td>\n",
       "      <td>0</td>\n",
       "      <td>0</td>\n",
       "      <td>3</td>\n",
       "      <td>True</td>\n",
       "      <td>Caller 2403</td>\n",
       "      <td>Opened by  8</td>\n",
       "      <td>29-02-2016 01:16</td>\n",
       "      <td>...</td>\n",
       "      <td>False</td>\n",
       "      <td>Do Not Notify</td>\n",
       "      <td>?</td>\n",
       "      <td>?</td>\n",
       "      <td>?</td>\n",
       "      <td>?</td>\n",
       "      <td>code 5</td>\n",
       "      <td>Resolved by 149</td>\n",
       "      <td>29-02-2016 11:29</td>\n",
       "      <td>05-03-2016 12:00</td>\n",
       "    </tr>\n",
       "    <tr>\n",
       "      <th>3</th>\n",
       "      <td>INC0000045</td>\n",
       "      <td>Closed</td>\n",
       "      <td>False</td>\n",
       "      <td>0</td>\n",
       "      <td>0</td>\n",
       "      <td>4</td>\n",
       "      <td>True</td>\n",
       "      <td>Caller 2403</td>\n",
       "      <td>Opened by  8</td>\n",
       "      <td>29-02-2016 01:16</td>\n",
       "      <td>...</td>\n",
       "      <td>False</td>\n",
       "      <td>Do Not Notify</td>\n",
       "      <td>?</td>\n",
       "      <td>?</td>\n",
       "      <td>?</td>\n",
       "      <td>?</td>\n",
       "      <td>code 5</td>\n",
       "      <td>Resolved by 149</td>\n",
       "      <td>29-02-2016 11:29</td>\n",
       "      <td>05-03-2016 12:00</td>\n",
       "    </tr>\n",
       "    <tr>\n",
       "      <th>4</th>\n",
       "      <td>INC0000047</td>\n",
       "      <td>New</td>\n",
       "      <td>True</td>\n",
       "      <td>0</td>\n",
       "      <td>0</td>\n",
       "      <td>0</td>\n",
       "      <td>True</td>\n",
       "      <td>Caller 2403</td>\n",
       "      <td>Opened by  397</td>\n",
       "      <td>29-02-2016 04:40</td>\n",
       "      <td>...</td>\n",
       "      <td>False</td>\n",
       "      <td>Do Not Notify</td>\n",
       "      <td>?</td>\n",
       "      <td>?</td>\n",
       "      <td>?</td>\n",
       "      <td>?</td>\n",
       "      <td>code 5</td>\n",
       "      <td>Resolved by 81</td>\n",
       "      <td>01-03-2016 09:52</td>\n",
       "      <td>06-03-2016 10:00</td>\n",
       "    </tr>\n",
       "  </tbody>\n",
       "</table>\n",
       "<p>5 rows × 36 columns</p>\n",
       "</div>"
      ],
      "text/plain": [
       "       number incident_state  active  reassignment_count  reopen_count  \\\n",
       "0  INC0000045            New    True                   0             0   \n",
       "1  INC0000045       Resolved    True                   0             0   \n",
       "2  INC0000045       Resolved    True                   0             0   \n",
       "3  INC0000045         Closed   False                   0             0   \n",
       "4  INC0000047            New    True                   0             0   \n",
       "\n",
       "   sys_mod_count  made_sla    caller_id       opened_by         opened_at  \\\n",
       "0              0      True  Caller 2403    Opened by  8  29-02-2016 01:16   \n",
       "1              2      True  Caller 2403    Opened by  8  29-02-2016 01:16   \n",
       "2              3      True  Caller 2403    Opened by  8  29-02-2016 01:16   \n",
       "3              4      True  Caller 2403    Opened by  8  29-02-2016 01:16   \n",
       "4              0      True  Caller 2403  Opened by  397  29-02-2016 04:40   \n",
       "\n",
       "   ... u_priority_confirmation         notify problem_id rfc vendor caused_by  \\\n",
       "0  ...                   False  Do Not Notify          ?   ?      ?         ?   \n",
       "1  ...                   False  Do Not Notify          ?   ?      ?         ?   \n",
       "2  ...                   False  Do Not Notify          ?   ?      ?         ?   \n",
       "3  ...                   False  Do Not Notify          ?   ?      ?         ?   \n",
       "4  ...                   False  Do Not Notify          ?   ?      ?         ?   \n",
       "\n",
       "  closed_code      resolved_by       resolved_at         closed_at  \n",
       "0      code 5  Resolved by 149  29-02-2016 11:29  05-03-2016 12:00  \n",
       "1      code 5  Resolved by 149  29-02-2016 11:29  05-03-2016 12:00  \n",
       "2      code 5  Resolved by 149  29-02-2016 11:29  05-03-2016 12:00  \n",
       "3      code 5  Resolved by 149  29-02-2016 11:29  05-03-2016 12:00  \n",
       "4      code 5   Resolved by 81  01-03-2016 09:52  06-03-2016 10:00  \n",
       "\n",
       "[5 rows x 36 columns]"
      ]
     },
     "execution_count": 128,
     "metadata": {},
     "output_type": "execute_result"
    }
   ],
   "source": [
    "data.head(5)"
   ]
  },
  {
   "cell_type": "code",
   "execution_count": 129,
   "metadata": {},
   "outputs": [
    {
     "data": {
      "text/plain": [
       "(141712, 36)"
      ]
     },
     "execution_count": 129,
     "metadata": {},
     "output_type": "execute_result"
    }
   ],
   "source": [
    "data.shape"
   ]
  },
  {
   "cell_type": "code",
   "execution_count": 130,
   "metadata": {},
   "outputs": [
    {
     "name": "stdout",
     "output_type": "stream",
     "text": [
      "<class 'pandas.core.frame.DataFrame'>\n",
      "RangeIndex: 141712 entries, 0 to 141711\n",
      "Data columns (total 36 columns):\n",
      " #   Column                   Non-Null Count   Dtype \n",
      "---  ------                   --------------   ----- \n",
      " 0   number                   141712 non-null  object\n",
      " 1   incident_state           141712 non-null  object\n",
      " 2   active                   141712 non-null  bool  \n",
      " 3   reassignment_count       141712 non-null  int64 \n",
      " 4   reopen_count             141712 non-null  int64 \n",
      " 5   sys_mod_count            141712 non-null  int64 \n",
      " 6   made_sla                 141712 non-null  bool  \n",
      " 7   caller_id                141712 non-null  object\n",
      " 8   opened_by                141712 non-null  object\n",
      " 9   opened_at                141712 non-null  object\n",
      " 10  sys_created_by           141712 non-null  object\n",
      " 11  sys_created_at           141712 non-null  object\n",
      " 12  sys_updated_by           141712 non-null  object\n",
      " 13  sys_updated_at           141712 non-null  object\n",
      " 14  contact_type             141712 non-null  object\n",
      " 15  location                 141712 non-null  object\n",
      " 16  category                 141712 non-null  object\n",
      " 17  subcategory              141712 non-null  object\n",
      " 18  u_symptom                141712 non-null  object\n",
      " 19  cmdb_ci                  141712 non-null  object\n",
      " 20  impact                   141712 non-null  object\n",
      " 21  urgency                  141712 non-null  object\n",
      " 22  priority                 141712 non-null  object\n",
      " 23  assignment_group         141712 non-null  object\n",
      " 24  assigned_to              141712 non-null  object\n",
      " 25  knowledge                141712 non-null  bool  \n",
      " 26  u_priority_confirmation  141712 non-null  bool  \n",
      " 27  notify                   141712 non-null  object\n",
      " 28  problem_id               141712 non-null  object\n",
      " 29  rfc                      141712 non-null  object\n",
      " 30  vendor                   141712 non-null  object\n",
      " 31  caused_by                141712 non-null  object\n",
      " 32  closed_code              141712 non-null  object\n",
      " 33  resolved_by              141712 non-null  object\n",
      " 34  resolved_at              141712 non-null  object\n",
      " 35  closed_at                141712 non-null  object\n",
      "dtypes: bool(4), int64(3), object(29)\n",
      "memory usage: 35.1+ MB\n"
     ]
    }
   ],
   "source": [
    "data.info()"
   ]
  },
  {
   "cell_type": "code",
   "execution_count": 131,
   "metadata": {},
   "outputs": [
    {
     "data": {
      "text/plain": [
       "(0, 36)"
      ]
     },
     "execution_count": 131,
     "metadata": {},
     "output_type": "execute_result"
    }
   ],
   "source": [
    "data[data.duplicated()].shape"
   ]
  },
  {
   "cell_type": "code",
   "execution_count": 132,
   "metadata": {},
   "outputs": [
    {
     "data": {
      "text/plain": [
       "36"
      ]
     },
     "execution_count": 132,
     "metadata": {},
     "output_type": "execute_result"
    }
   ],
   "source": [
    "data.columns.nunique()"
   ]
  },
  {
   "cell_type": "code",
   "execution_count": 133,
   "metadata": {},
   "outputs": [
    {
     "data": {
      "text/plain": [
       "Index(['number', 'incident_state', 'active', 'reassignment_count',\n",
       "       'reopen_count', 'sys_mod_count', 'made_sla', 'caller_id', 'opened_by',\n",
       "       'opened_at', 'sys_created_by', 'sys_created_at', 'sys_updated_by',\n",
       "       'sys_updated_at', 'contact_type', 'location', 'category', 'subcategory',\n",
       "       'u_symptom', 'cmdb_ci', 'impact', 'urgency', 'priority',\n",
       "       'assignment_group', 'assigned_to', 'knowledge',\n",
       "       'u_priority_confirmation', 'notify', 'problem_id', 'rfc', 'vendor',\n",
       "       'caused_by', 'closed_code', 'resolved_by', 'resolved_at', 'closed_at'],\n",
       "      dtype='object')"
      ]
     },
     "execution_count": 133,
     "metadata": {},
     "output_type": "execute_result"
    }
   ],
   "source": [
    "data.columns.unique()"
   ]
  },
  {
   "cell_type": "code",
   "execution_count": 134,
   "metadata": {},
   "outputs": [
    {
     "name": "stdout",
     "output_type": "stream",
     "text": [
      "\n",
      "Frequency of Categories for varible number\n",
      "INC0019396    58\n",
      "INC0044260    56\n",
      "INC0005927    46\n",
      "INC0020718    45\n",
      "INC0011206    44\n",
      "              ..\n",
      "INC0012729     2\n",
      "INC0002823     2\n",
      "INC0026215     2\n",
      "INC0003569     2\n",
      "INC0013821     2\n",
      "Name: number, Length: 24918, dtype: int64\n",
      "\n",
      "Frequency of Categories for varible incident_state\n",
      "Active                38716\n",
      "New                   36407\n",
      "Resolved              25751\n",
      "Closed                24985\n",
      "Awaiting User Info    14642\n",
      "Awaiting Vendor         707\n",
      "Awaiting Problem        461\n",
      "Awaiting Evidence        38\n",
      "-100                      5\n",
      "Name: incident_state, dtype: int64\n",
      "\n",
      "Frequency of Categories for varible active\n",
      "True     116726\n",
      "False     24986\n",
      "Name: active, dtype: int64\n",
      "\n",
      "Frequency of Categories for varible reassignment_count\n",
      "0     69876\n",
      "1     37104\n",
      "2     15097\n",
      "3      8274\n",
      "4      4614\n",
      "5      2595\n",
      "6      1447\n",
      "7       985\n",
      "8       574\n",
      "9       365\n",
      "10      285\n",
      "11      174\n",
      "12      108\n",
      "13       61\n",
      "14       45\n",
      "15       21\n",
      "17       16\n",
      "20       16\n",
      "16       13\n",
      "18       13\n",
      "22        9\n",
      "19        8\n",
      "21        3\n",
      "27        3\n",
      "26        2\n",
      "23        2\n",
      "24        1\n",
      "25        1\n",
      "Name: reassignment_count, dtype: int64\n",
      "\n",
      "Frequency of Categories for varible reopen_count\n",
      "0    139398\n",
      "1      1918\n",
      "2       190\n",
      "3       107\n",
      "4        48\n",
      "5        24\n",
      "6        18\n",
      "7         5\n",
      "8         4\n",
      "Name: reopen_count, dtype: int64\n",
      "\n",
      "Frequency of Categories for varible sys_mod_count\n",
      "0      24913\n",
      "1      22062\n",
      "2      19749\n",
      "3      14168\n",
      "4      10735\n",
      "       ...  \n",
      "106        1\n",
      "105        1\n",
      "103        1\n",
      "117        1\n",
      "119        1\n",
      "Name: sys_mod_count, Length: 115, dtype: int64\n",
      "\n",
      "Frequency of Categories for varible made_sla\n",
      "True     132497\n",
      "False      9215\n",
      "Name: made_sla, dtype: int64\n",
      "\n",
      "Frequency of Categories for varible caller_id\n",
      "Caller 1904    1425\n",
      "Caller 290      791\n",
      "Caller 4514     716\n",
      "Caller 1441     322\n",
      "Caller 298      293\n",
      "               ... \n",
      "Caller 1230       2\n",
      "Caller 4101       2\n",
      "Caller 961        2\n",
      "Caller 1978       2\n",
      "Caller 2180       2\n",
      "Name: caller_id, Length: 5245, dtype: int64\n",
      "\n",
      "Frequency of Categories for varible opened_by\n",
      "Opened by  17     41466\n",
      "Opened by  24      8063\n",
      "Opened by  131     7269\n",
      "Opened by  108     6121\n",
      "Opened by  55      5655\n",
      "                  ...  \n",
      "Opened by  144        3\n",
      "Opened by  7          3\n",
      "Opened by  447        3\n",
      "Opened by  160        3\n",
      "Opened by  277        3\n",
      "Name: opened_by, Length: 208, dtype: int64\n",
      "\n",
      "Frequency of Categories for varible opened_at\n",
      "14-04-2016 20:42    58\n",
      "04-07-2016 14:38    56\n",
      "07-03-2016 09:11    52\n",
      "07-03-2016 11:58    52\n",
      "07-03-2016 11:04    51\n",
      "                    ..\n",
      "31-03-2016 17:19     2\n",
      "26-03-2016 19:26     2\n",
      "08-03-2016 02:26     2\n",
      "28-03-2016 11:22     2\n",
      "25-04-2016 03:52     2\n",
      "Name: opened_at, Length: 19849, dtype: int64\n",
      "\n",
      "Frequency of Categories for varible sys_created_by\n",
      "?                 53076\n",
      "Created by 10     24223\n",
      "Created by 13      4511\n",
      "Created by 62      3943\n",
      "Created by 52      3551\n",
      "                  ...  \n",
      "Created by 73         3\n",
      "Created by 208        3\n",
      "Created by 209        3\n",
      "Created by 60         3\n",
      "Created by 194        3\n",
      "Name: sys_created_by, Length: 186, dtype: int64\n",
      "\n",
      "Frequency of Categories for varible sys_created_at\n",
      "?                   53076\n",
      "04-07-2016 14:50       56\n",
      "15-03-2016 15:19       52\n",
      "19-04-2016 11:32       47\n",
      "24-05-2016 09:14       47\n",
      "                    ...  \n",
      "29-03-2016 16:11        2\n",
      "15-04-2016 18:45        2\n",
      "21-04-2016 05:14        2\n",
      "13-03-2016 20:24        2\n",
      "15-03-2016 15:26        2\n",
      "Name: sys_created_at, Length: 11553, dtype: int64\n",
      "\n",
      "Frequency of Categories for varible sys_updated_by\n",
      "Updated by 908    36162\n",
      "Updated by 44     12644\n",
      "Updated by 60      7009\n",
      "Updated by 429     4169\n",
      "Updated by 859     2560\n",
      "                  ...  \n",
      "Updated by 42         1\n",
      "Updated by 523        1\n",
      "Updated by 661        1\n",
      "Updated by 647        1\n",
      "Updated by 836        1\n",
      "Name: sys_updated_by, Length: 846, dtype: int64\n",
      "\n",
      "Frequency of Categories for varible sys_updated_at\n",
      "24-03-2016 18:40    420\n",
      "24-03-2016 19:00    405\n",
      "24-03-2016 18:51    400\n",
      "24-03-2016 19:01    393\n",
      "24-03-2016 18:41    386\n",
      "                   ... \n",
      "29-04-2016 17:23      1\n",
      "11-04-2016 19:02      1\n",
      "26-03-2016 18:34      1\n",
      "08-04-2016 09:44      1\n",
      "31-03-2016 00:27      1\n",
      "Name: sys_updated_at, Length: 50664, dtype: int64\n",
      "\n",
      "Frequency of Categories for varible contact_type\n",
      "Phone             140462\n",
      "Self service         995\n",
      "Email                220\n",
      "IVR                   18\n",
      "Direct opening        17\n",
      "Name: contact_type, dtype: int64\n",
      "\n",
      "Frequency of Categories for varible location\n",
      "Location 204    31690\n",
      "Location 161    22605\n",
      "Location 143    19245\n",
      "Location 108    12623\n",
      "Location 93     11554\n",
      "                ...  \n",
      "Location 227        3\n",
      "Location 207        3\n",
      "Location 166        2\n",
      "Location 132        2\n",
      "Location 31         2\n",
      "Name: location, Length: 225, dtype: int64\n",
      "\n",
      "Frequency of Categories for varible category\n",
      "Category 26    18453\n",
      "Category 42    15977\n",
      "Category 53    15968\n",
      "Category 46    13324\n",
      "Category 23     7779\n",
      "Category 9      7365\n",
      "Category 32     7273\n",
      "Category 37     6584\n",
      "Category 57     6532\n",
      "Category 20     5506\n",
      "Category 61     5168\n",
      "Category 24     4561\n",
      "Category 34     3946\n",
      "Category 40     3760\n",
      "Category 45     3619\n",
      "Category 51     2390\n",
      "Category 28     2256\n",
      "Category 35     2037\n",
      "Category 44     1798\n",
      "Category 19     1592\n",
      "Category 13      994\n",
      "Category 43      858\n",
      "Category 55      801\n",
      "Category 17      512\n",
      "Category 22      420\n",
      "Category 56      322\n",
      "Category 38      290\n",
      "Category 8       264\n",
      "Category 7       207\n",
      "Category 33      160\n",
      "Category 54      139\n",
      "Category 50       93\n",
      "Category 31       92\n",
      "?                 78\n",
      "Category 63       78\n",
      "Category 2        77\n",
      "Category 21       69\n",
      "Category 47       50\n",
      "Category 59       42\n",
      "Category 41       36\n",
      "Category 29       32\n",
      "Category 5        31\n",
      "Category 25       30\n",
      "Category 62       25\n",
      "Category 10       24\n",
      "Category 4        22\n",
      "Category 52       16\n",
      "Category 30       15\n",
      "Category 48       10\n",
      "Category 16        7\n",
      "Category 6         7\n",
      "Category 58        5\n",
      "Category 14        5\n",
      "Category 15        3\n",
      "Category 12        3\n",
      "Category 49        2\n",
      "Category 36        2\n",
      "Category 27        2\n",
      "Category 3         1\n",
      "Name: category, dtype: int64\n",
      "\n",
      "Frequency of Categories for varible subcategory\n",
      "Subcategory 174    35785\n",
      "Subcategory 223    15598\n",
      "Subcategory 175    10496\n",
      "Subcategory 164     7880\n",
      "Subcategory 9       4124\n",
      "                   ...  \n",
      "Subcategory 8          2\n",
      "Subcategory 284        1\n",
      "Subcategory 179        1\n",
      "Subcategory 241        1\n",
      "Subcategory 264        1\n",
      "Name: subcategory, Length: 255, dtype: int64\n",
      "\n",
      "Frequency of Categories for varible u_symptom\n",
      "Symptom 491    51985\n",
      "?              32964\n",
      "Symptom 534     5559\n",
      "Symptom 387     2583\n",
      "Symptom 4       2532\n",
      "               ...  \n",
      "Symptom 558        1\n",
      "Symptom 184        1\n",
      "Symptom 155        1\n",
      "Symptom 61         1\n",
      "Symptom 313        1\n",
      "Name: u_symptom, Length: 526, dtype: int64\n",
      "\n",
      "Frequency of Categories for varible cmdb_ci\n",
      "?             141267\n",
      "cmdb_ci 31        32\n",
      "cmdb_ci 49        24\n",
      "cmdb_ci 7         24\n",
      "cmdb_ci 11        21\n",
      "cmdb_ci 14        17\n",
      "cmdb_ci 46        16\n",
      "cmdb_ci 23        14\n",
      "cmdb_ci 5         14\n",
      "cmdb_ci 17        13\n",
      "cmdb_ci 40        12\n",
      "cmdb_ci 20        11\n",
      "cmdb_ci 12        11\n",
      "cmdb_ci 28        11\n",
      "cmdb_ci 47        11\n",
      "cmdb_ci 24        10\n",
      "cmdb_ci 50        10\n",
      "cmdb_ci 6         10\n",
      "cmdb_ci 48         9\n",
      "cmdb_ci 53         9\n",
      "cmdb_ci 3          9\n",
      "cmdb_ci 4          9\n",
      "cmdb_ci 2          9\n",
      "cmdb_ci 39         9\n",
      "cmdb_ci 41         8\n",
      "cmdb_ci 8          8\n",
      "cmdb_ci 10         8\n",
      "cmdb_ci 22         8\n",
      "cmdb_ci 32         7\n",
      "cmdb_ci 19         7\n",
      "cmdb_ci 29         6\n",
      "cmdb_ci 18         6\n",
      "cmdb_ci 9          6\n",
      "cmdb_ci 26         6\n",
      "cmdb_ci 42         6\n",
      "cmdb_ci 13         6\n",
      "cmdb_ci 35         5\n",
      "cmdb_ci 30         5\n",
      "cmdb_ci 15         5\n",
      "cmdb_ci 21         4\n",
      "cmdb_ci 34         4\n",
      "cmdb_ci 25         4\n",
      "cmdb_ci 16         4\n",
      "cmdb_ci 37         4\n",
      "cmdb_ci 43         3\n",
      "cmdb_ci 36         3\n",
      "cmdb_ci 45         2\n",
      "cmdb_ci 38         2\n",
      "cmdb_ci 51         1\n",
      "cmdb_ci 27         1\n",
      "cmdb_ci 33         1\n",
      "Name: cmdb_ci, dtype: int64\n",
      "\n",
      "Frequency of Categories for varible impact\n",
      "2 - Medium    134335\n",
      "3 - Low         3886\n",
      "1 - High        3491\n",
      "Name: impact, dtype: int64\n",
      "\n",
      "Frequency of Categories for varible urgency\n",
      "2 - Medium    134094\n",
      "1 - High        4020\n",
      "3 - Low         3598\n",
      "Name: urgency, dtype: int64\n",
      "\n",
      "Frequency of Categories for varible priority\n",
      "3 - Moderate    132452\n",
      "4 - Low           4030\n",
      "2 - High          2972\n",
      "1 - Critical      2258\n",
      "Name: priority, dtype: int64\n",
      "\n",
      "Frequency of Categories for varible assignment_group\n",
      "Group 70    43474\n",
      "?           14213\n",
      "Group 25     7679\n",
      "Group 24     6752\n",
      "Group 20     6170\n",
      "            ...  \n",
      "Group 41        3\n",
      "Group 38        2\n",
      "Group 4         1\n",
      "Group 11        1\n",
      "Group 16        1\n",
      "Name: assignment_group, Length: 79, dtype: int64\n",
      "\n",
      "Frequency of Categories for varible assigned_to\n",
      "?               27496\n",
      "Resolver 17     10590\n",
      "Resolver 13      8802\n",
      "Resolver 194     3515\n",
      "Resolver 57      3144\n",
      "                ...  \n",
      "Resolver 199        1\n",
      "Resolver 131        1\n",
      "Resolver 129        1\n",
      "Resolver 38         1\n",
      "Resolver 146        1\n",
      "Name: assigned_to, Length: 235, dtype: int64\n",
      "\n",
      "Frequency of Categories for varible knowledge\n",
      "False    116349\n",
      "True      25363\n",
      "Name: knowledge, dtype: int64\n",
      "\n",
      "Frequency of Categories for varible u_priority_confirmation\n",
      "False    100740\n",
      "True      40972\n",
      "Name: u_priority_confirmation, dtype: int64\n",
      "\n",
      "Frequency of Categories for varible notify\n",
      "Do Not Notify    141593\n",
      "Send Email          119\n",
      "Name: notify, dtype: int64\n",
      "\n",
      "Frequency of Categories for varible problem_id\n",
      "?                  139417\n",
      "Problem ID  14        184\n",
      "Problem ID  2         147\n",
      "Problem ID  52         82\n",
      "Problem ID  239        48\n",
      "                    ...  \n",
      "Problem ID  88          1\n",
      "Problem ID  11          1\n",
      "Problem ID  181         1\n",
      "Problem ID  33          1\n",
      "Problem ID  195         1\n",
      "Name: problem_id, Length: 253, dtype: int64\n",
      "\n",
      "Frequency of Categories for varible rfc\n",
      "?             140721\n",
      "CHG0001230        20\n",
      "CHG0000132        20\n",
      "CHG0000047        18\n",
      "CHG0001656        17\n",
      "               ...  \n",
      "CHG0003305         2\n",
      "CHG0001720         1\n",
      "CHG0001829         1\n",
      "CHG0000530         1\n",
      "CHG0001437         1\n",
      "Name: rfc, Length: 182, dtype: int64\n",
      "\n",
      "Frequency of Categories for varible vendor\n",
      "?           141468\n",
      "code 8s        167\n",
      "Vendor 1        69\n",
      "Vendor 3         6\n",
      "Vendor 2         2\n",
      "Name: vendor, dtype: int64\n",
      "\n",
      "Frequency of Categories for varible caused_by\n",
      "?             141689\n",
      "CHG0000097        11\n",
      "CHG0000132         7\n",
      "CHG0001327         5\n",
      "Name: caused_by, dtype: int64\n",
      "\n",
      "Frequency of Categories for varible closed_code\n"
     ]
    },
    {
     "name": "stdout",
     "output_type": "stream",
     "text": [
      "code 6     86583\n",
      "code 7     20733\n",
      "code 9     13562\n",
      "code 8      5646\n",
      "code 5      4469\n",
      "code 1      3265\n",
      "code 10     1678\n",
      "code 11     1493\n",
      "code 4      1139\n",
      "code 16     1091\n",
      "?            714\n",
      "code 3       608\n",
      "code 2       349\n",
      "code 15      183\n",
      "code 17      115\n",
      "code 13       59\n",
      "code 12       13\n",
      "code 14       12\n",
      "Name: closed_code, dtype: int64\n",
      "\n",
      "Frequency of Categories for varible resolved_by\n",
      "Resolved by 15     15421\n",
      "Resolved by 11     12050\n",
      "Resolved by 103     5360\n",
      "Resolved by 177     3811\n",
      "Resolved by 53      3637\n",
      "                   ...  \n",
      "Resolved by 17         4\n",
      "Resolved by 222        4\n",
      "Resolved by 48         3\n",
      "Resolved by 39         3\n",
      "Resolved by 185        3\n",
      "Name: resolved_by, Length: 217, dtype: int64\n",
      "\n",
      "Frequency of Categories for varible resolved_at\n",
      "?                   3141\n",
      "03-06-2016 16:29      93\n",
      "03-06-2016 16:28      85\n",
      "03-06-2016 16:27      83\n",
      "03-06-2016 16:31      59\n",
      "                    ... \n",
      "23-03-2016 11:04       2\n",
      "17-03-2016 10:21       2\n",
      "01-04-2016 09:54       2\n",
      "05-05-2016 16:05       2\n",
      "14-04-2016 18:26       2\n",
      "Name: resolved_at, Length: 18506, dtype: int64\n",
      "\n",
      "Frequency of Categories for varible closed_at\n",
      "24-03-2016 18:59    3324\n",
      "24-03-2016 18:50    2846\n",
      "24-03-2016 18:40    2808\n",
      "24-03-2016 19:00    2780\n",
      "24-03-2016 19:01    2044\n",
      "                    ... \n",
      "04-04-2016 20:59       2\n",
      "20-05-2016 07:07       2\n",
      "29-04-2016 01:07       2\n",
      "28-04-2016 22:07       2\n",
      "23-05-2016 18:10       2\n",
      "Name: closed_at, Length: 2707, dtype: int64\n"
     ]
    }
   ],
   "source": [
    "#To find unique values in columns\n",
    "data_dict = dict(zip([i for i in data.columns] , [pd.DataFrame(data[i].unique(), columns=[i]) for i in data.columns]))\n",
    "for data_dict in data:\n",
    "    print ('\\nFrequency of Categories for varible %s'%data_dict)\n",
    "    print (data[data_dict].value_counts())"
   ]
  },
  {
   "cell_type": "code",
   "execution_count": 135,
   "metadata": {},
   "outputs": [],
   "source": [
    "data_cleaned= data.copy()"
   ]
  },
  {
   "cell_type": "markdown",
   "metadata": {},
   "source": [
    "## replacing the '?' values with np.nan"
   ]
  },
  {
   "cell_type": "code",
   "execution_count": 136,
   "metadata": {},
   "outputs": [],
   "source": [
    "data_cleaned.replace('?', np.nan, inplace=True)"
   ]
  },
  {
   "cell_type": "code",
   "execution_count": 137,
   "metadata": {},
   "outputs": [
    {
     "data": {
      "text/plain": [
       "number                          0\n",
       "incident_state                  0\n",
       "active                          0\n",
       "reassignment_count              0\n",
       "reopen_count                    0\n",
       "sys_mod_count                   0\n",
       "made_sla                        0\n",
       "caller_id                      29\n",
       "opened_by                    4835\n",
       "opened_at                       0\n",
       "sys_created_by              53076\n",
       "sys_created_at              53076\n",
       "sys_updated_by                  0\n",
       "sys_updated_at                  0\n",
       "contact_type                    0\n",
       "location                       76\n",
       "category                       78\n",
       "subcategory                   111\n",
       "u_symptom                   32964\n",
       "cmdb_ci                    141267\n",
       "impact                          0\n",
       "urgency                         0\n",
       "priority                        0\n",
       "assignment_group            14213\n",
       "assigned_to                 27496\n",
       "knowledge                       0\n",
       "u_priority_confirmation         0\n",
       "notify                          0\n",
       "problem_id                 139417\n",
       "rfc                        140721\n",
       "vendor                     141468\n",
       "caused_by                  141689\n",
       "closed_code                   714\n",
       "resolved_by                   226\n",
       "resolved_at                  3141\n",
       "closed_at                       0\n",
       "dtype: int64"
      ]
     },
     "execution_count": 137,
     "metadata": {},
     "output_type": "execute_result"
    }
   ],
   "source": [
    "data_cleaned.isna().sum()"
   ]
  },
  {
   "cell_type": "code",
   "execution_count": 138,
   "metadata": {},
   "outputs": [
    {
     "data": {
      "text/html": [
       "<div>\n",
       "<style scoped>\n",
       "    .dataframe tbody tr th:only-of-type {\n",
       "        vertical-align: middle;\n",
       "    }\n",
       "\n",
       "    .dataframe tbody tr th {\n",
       "        vertical-align: top;\n",
       "    }\n",
       "\n",
       "    .dataframe thead th {\n",
       "        text-align: right;\n",
       "    }\n",
       "</style>\n",
       "<table border=\"1\" class=\"dataframe\">\n",
       "  <thead>\n",
       "    <tr style=\"text-align: right;\">\n",
       "      <th></th>\n",
       "      <th>number</th>\n",
       "      <th>incident_state</th>\n",
       "      <th>active</th>\n",
       "      <th>reassignment_count</th>\n",
       "      <th>reopen_count</th>\n",
       "      <th>sys_mod_count</th>\n",
       "      <th>made_sla</th>\n",
       "      <th>caller_id</th>\n",
       "      <th>opened_by</th>\n",
       "      <th>opened_at</th>\n",
       "      <th>...</th>\n",
       "      <th>u_priority_confirmation</th>\n",
       "      <th>notify</th>\n",
       "      <th>problem_id</th>\n",
       "      <th>rfc</th>\n",
       "      <th>vendor</th>\n",
       "      <th>caused_by</th>\n",
       "      <th>closed_code</th>\n",
       "      <th>resolved_by</th>\n",
       "      <th>resolved_at</th>\n",
       "      <th>closed_at</th>\n",
       "    </tr>\n",
       "  </thead>\n",
       "  <tbody>\n",
       "    <tr>\n",
       "      <th>0</th>\n",
       "      <td>INC0000045</td>\n",
       "      <td>New</td>\n",
       "      <td>True</td>\n",
       "      <td>0</td>\n",
       "      <td>0</td>\n",
       "      <td>0</td>\n",
       "      <td>True</td>\n",
       "      <td>Caller 2403</td>\n",
       "      <td>Opened by  8</td>\n",
       "      <td>29-02-2016 01:16</td>\n",
       "      <td>...</td>\n",
       "      <td>False</td>\n",
       "      <td>Do Not Notify</td>\n",
       "      <td>NaN</td>\n",
       "      <td>NaN</td>\n",
       "      <td>NaN</td>\n",
       "      <td>NaN</td>\n",
       "      <td>code 5</td>\n",
       "      <td>Resolved by 149</td>\n",
       "      <td>29-02-2016 11:29</td>\n",
       "      <td>05-03-2016 12:00</td>\n",
       "    </tr>\n",
       "    <tr>\n",
       "      <th>1</th>\n",
       "      <td>INC0000045</td>\n",
       "      <td>Resolved</td>\n",
       "      <td>True</td>\n",
       "      <td>0</td>\n",
       "      <td>0</td>\n",
       "      <td>2</td>\n",
       "      <td>True</td>\n",
       "      <td>Caller 2403</td>\n",
       "      <td>Opened by  8</td>\n",
       "      <td>29-02-2016 01:16</td>\n",
       "      <td>...</td>\n",
       "      <td>False</td>\n",
       "      <td>Do Not Notify</td>\n",
       "      <td>NaN</td>\n",
       "      <td>NaN</td>\n",
       "      <td>NaN</td>\n",
       "      <td>NaN</td>\n",
       "      <td>code 5</td>\n",
       "      <td>Resolved by 149</td>\n",
       "      <td>29-02-2016 11:29</td>\n",
       "      <td>05-03-2016 12:00</td>\n",
       "    </tr>\n",
       "    <tr>\n",
       "      <th>2</th>\n",
       "      <td>INC0000045</td>\n",
       "      <td>Resolved</td>\n",
       "      <td>True</td>\n",
       "      <td>0</td>\n",
       "      <td>0</td>\n",
       "      <td>3</td>\n",
       "      <td>True</td>\n",
       "      <td>Caller 2403</td>\n",
       "      <td>Opened by  8</td>\n",
       "      <td>29-02-2016 01:16</td>\n",
       "      <td>...</td>\n",
       "      <td>False</td>\n",
       "      <td>Do Not Notify</td>\n",
       "      <td>NaN</td>\n",
       "      <td>NaN</td>\n",
       "      <td>NaN</td>\n",
       "      <td>NaN</td>\n",
       "      <td>code 5</td>\n",
       "      <td>Resolved by 149</td>\n",
       "      <td>29-02-2016 11:29</td>\n",
       "      <td>05-03-2016 12:00</td>\n",
       "    </tr>\n",
       "    <tr>\n",
       "      <th>3</th>\n",
       "      <td>INC0000045</td>\n",
       "      <td>Closed</td>\n",
       "      <td>False</td>\n",
       "      <td>0</td>\n",
       "      <td>0</td>\n",
       "      <td>4</td>\n",
       "      <td>True</td>\n",
       "      <td>Caller 2403</td>\n",
       "      <td>Opened by  8</td>\n",
       "      <td>29-02-2016 01:16</td>\n",
       "      <td>...</td>\n",
       "      <td>False</td>\n",
       "      <td>Do Not Notify</td>\n",
       "      <td>NaN</td>\n",
       "      <td>NaN</td>\n",
       "      <td>NaN</td>\n",
       "      <td>NaN</td>\n",
       "      <td>code 5</td>\n",
       "      <td>Resolved by 149</td>\n",
       "      <td>29-02-2016 11:29</td>\n",
       "      <td>05-03-2016 12:00</td>\n",
       "    </tr>\n",
       "    <tr>\n",
       "      <th>4</th>\n",
       "      <td>INC0000047</td>\n",
       "      <td>New</td>\n",
       "      <td>True</td>\n",
       "      <td>0</td>\n",
       "      <td>0</td>\n",
       "      <td>0</td>\n",
       "      <td>True</td>\n",
       "      <td>Caller 2403</td>\n",
       "      <td>Opened by  397</td>\n",
       "      <td>29-02-2016 04:40</td>\n",
       "      <td>...</td>\n",
       "      <td>False</td>\n",
       "      <td>Do Not Notify</td>\n",
       "      <td>NaN</td>\n",
       "      <td>NaN</td>\n",
       "      <td>NaN</td>\n",
       "      <td>NaN</td>\n",
       "      <td>code 5</td>\n",
       "      <td>Resolved by 81</td>\n",
       "      <td>01-03-2016 09:52</td>\n",
       "      <td>06-03-2016 10:00</td>\n",
       "    </tr>\n",
       "  </tbody>\n",
       "</table>\n",
       "<p>5 rows × 36 columns</p>\n",
       "</div>"
      ],
      "text/plain": [
       "       number incident_state  active  reassignment_count  reopen_count  \\\n",
       "0  INC0000045            New    True                   0             0   \n",
       "1  INC0000045       Resolved    True                   0             0   \n",
       "2  INC0000045       Resolved    True                   0             0   \n",
       "3  INC0000045         Closed   False                   0             0   \n",
       "4  INC0000047            New    True                   0             0   \n",
       "\n",
       "   sys_mod_count  made_sla    caller_id       opened_by         opened_at  \\\n",
       "0              0      True  Caller 2403    Opened by  8  29-02-2016 01:16   \n",
       "1              2      True  Caller 2403    Opened by  8  29-02-2016 01:16   \n",
       "2              3      True  Caller 2403    Opened by  8  29-02-2016 01:16   \n",
       "3              4      True  Caller 2403    Opened by  8  29-02-2016 01:16   \n",
       "4              0      True  Caller 2403  Opened by  397  29-02-2016 04:40   \n",
       "\n",
       "   ... u_priority_confirmation         notify problem_id  rfc vendor  \\\n",
       "0  ...                   False  Do Not Notify        NaN  NaN    NaN   \n",
       "1  ...                   False  Do Not Notify        NaN  NaN    NaN   \n",
       "2  ...                   False  Do Not Notify        NaN  NaN    NaN   \n",
       "3  ...                   False  Do Not Notify        NaN  NaN    NaN   \n",
       "4  ...                   False  Do Not Notify        NaN  NaN    NaN   \n",
       "\n",
       "  caused_by closed_code      resolved_by       resolved_at         closed_at  \n",
       "0       NaN      code 5  Resolved by 149  29-02-2016 11:29  05-03-2016 12:00  \n",
       "1       NaN      code 5  Resolved by 149  29-02-2016 11:29  05-03-2016 12:00  \n",
       "2       NaN      code 5  Resolved by 149  29-02-2016 11:29  05-03-2016 12:00  \n",
       "3       NaN      code 5  Resolved by 149  29-02-2016 11:29  05-03-2016 12:00  \n",
       "4       NaN      code 5   Resolved by 81  01-03-2016 09:52  06-03-2016 10:00  \n",
       "\n",
       "[5 rows x 36 columns]"
      ]
     },
     "execution_count": 138,
     "metadata": {},
     "output_type": "execute_result"
    }
   ],
   "source": [
    "data_cleaned.head()"
   ]
  },
  {
   "cell_type": "code",
   "execution_count": null,
   "metadata": {},
   "outputs": [],
   "source": []
  },
  {
   "cell_type": "markdown",
   "metadata": {},
   "source": [
    "## Changing the datatype for the opening and closing columns"
   ]
  },
  {
   "cell_type": "code",
   "execution_count": 139,
   "metadata": {},
   "outputs": [],
   "source": [
    "columns_to_change_to_datetime = ['closed_at', 'opened_at' ]\n",
    "\n",
    "for i in columns_to_change_to_datetime:\n",
    "    data_cleaned[i] = data_cleaned[i].astype('datetime64[ns]')"
   ]
  },
  {
   "cell_type": "code",
   "execution_count": 140,
   "metadata": {},
   "outputs": [
    {
     "data": {
      "text/plain": [
       "number                             object\n",
       "incident_state                     object\n",
       "active                               bool\n",
       "reassignment_count                  int64\n",
       "reopen_count                        int64\n",
       "sys_mod_count                       int64\n",
       "made_sla                             bool\n",
       "caller_id                          object\n",
       "opened_by                          object\n",
       "opened_at                  datetime64[ns]\n",
       "sys_created_by                     object\n",
       "sys_created_at                     object\n",
       "sys_updated_by                     object\n",
       "sys_updated_at                     object\n",
       "contact_type                       object\n",
       "location                           object\n",
       "category                           object\n",
       "subcategory                        object\n",
       "u_symptom                          object\n",
       "cmdb_ci                            object\n",
       "impact                             object\n",
       "urgency                            object\n",
       "priority                           object\n",
       "assignment_group                   object\n",
       "assigned_to                        object\n",
       "knowledge                            bool\n",
       "u_priority_confirmation              bool\n",
       "notify                             object\n",
       "problem_id                         object\n",
       "rfc                                object\n",
       "vendor                             object\n",
       "caused_by                          object\n",
       "closed_code                        object\n",
       "resolved_by                        object\n",
       "resolved_at                        object\n",
       "closed_at                  datetime64[ns]\n",
       "dtype: object"
      ]
     },
     "execution_count": 140,
     "metadata": {},
     "output_type": "execute_result"
    }
   ],
   "source": [
    "data_cleaned.dtypes"
   ]
  },
  {
   "cell_type": "code",
   "execution_count": null,
   "metadata": {},
   "outputs": [],
   "source": []
  },
  {
   "cell_type": "code",
   "execution_count": 141,
   "metadata": {},
   "outputs": [
    {
     "name": "stdout",
     "output_type": "stream",
     "text": [
      "PERCENTAGE OF MISSING VALUES\n"
     ]
    },
    {
     "data": {
      "text/plain": [
       "number                      0.000000\n",
       "incident_state              0.000000\n",
       "active                      0.000000\n",
       "reassignment_count          0.000000\n",
       "reopen_count                0.000000\n",
       "sys_mod_count               0.000000\n",
       "made_sla                    0.000000\n",
       "caller_id                   0.020464\n",
       "opened_by                   3.411849\n",
       "opened_at                   0.000000\n",
       "sys_created_by             37.453427\n",
       "sys_created_at             37.453427\n",
       "sys_updated_by              0.000000\n",
       "sys_updated_at              0.000000\n",
       "contact_type                0.000000\n",
       "location                    0.053630\n",
       "category                    0.055041\n",
       "subcategory                 0.078328\n",
       "u_symptom                  23.261262\n",
       "cmdb_ci                    99.685983\n",
       "impact                      0.000000\n",
       "urgency                     0.000000\n",
       "priority                    0.000000\n",
       "assignment_group           10.029496\n",
       "assigned_to                19.402732\n",
       "knowledge                   0.000000\n",
       "u_priority_confirmation     0.000000\n",
       "notify                      0.000000\n",
       "problem_id                 98.380518\n",
       "rfc                        99.300694\n",
       "vendor                     99.827820\n",
       "caused_by                  99.983770\n",
       "closed_code                 0.503839\n",
       "resolved_by                 0.159478\n",
       "resolved_at                 2.216467\n",
       "closed_at                   0.000000\n",
       "dtype: float64"
      ]
     },
     "execution_count": 141,
     "metadata": {},
     "output_type": "execute_result"
    }
   ],
   "source": [
    "print('percentage of missing values'.upper())\n",
    "data_cleaned.isna().sum()/data_cleaned.shape[0]*100"
   ]
  },
  {
   "cell_type": "code",
   "execution_count": 142,
   "metadata": {},
   "outputs": [
    {
     "data": {
      "text/plain": [
       "<AxesSubplot:>"
      ]
     },
     "execution_count": 142,
     "metadata": {},
     "output_type": "execute_result"
    },
    {
     "data": {
      "image/png": "[encoded data removed]",
      "text/plain": [
       "<Figure size 432x288 with 2 Axes>"
      ]
     },
     "metadata": {
      "needs_background": "light"
     },
     "output_type": "display_data"
    }
   ],
   "source": [
    "import seaborn as sns\n",
    "cols = data_cleaned.columns\n",
    "colours = ['#000099','#ffff00']      \n",
    "sns.heatmap(data_cleaned[cols].isnull(),\n",
    "           cmap=sns.color_palette(colours))"
   ]
  },
  {
   "cell_type": "code",
   "execution_count": null,
   "metadata": {},
   "outputs": [],
   "source": []
  },
  {
   "cell_type": "markdown",
   "metadata": {},
   "source": [
    "## dropping colmns with more than 90% missing values"
   ]
  },
  {
   "cell_type": "code",
   "execution_count": 143,
   "metadata": {},
   "outputs": [],
   "source": [
    "drop = ['caused_by', 'rfc', 'vendor','cmdb_ci','problem_id','made_sla']\n",
    "data_cleaned.drop(drop,axis=1,inplace=True)"
   ]
  },
  {
   "cell_type": "code",
   "execution_count": 144,
   "metadata": {},
   "outputs": [
    {
     "data": {
      "text/plain": [
       "(141712, 30)"
      ]
     },
     "execution_count": 144,
     "metadata": {},
     "output_type": "execute_result"
    }
   ],
   "source": [
    "data_cleaned.shape"
   ]
  },
  {
   "cell_type": "code",
   "execution_count": 145,
   "metadata": {},
   "outputs": [
    {
     "data": {
      "text/html": [
       "<div>\n",
       "<style scoped>\n",
       "    .dataframe tbody tr th:only-of-type {\n",
       "        vertical-align: middle;\n",
       "    }\n",
       "\n",
       "    .dataframe tbody tr th {\n",
       "        vertical-align: top;\n",
       "    }\n",
       "\n",
       "    .dataframe thead th {\n",
       "        text-align: right;\n",
       "    }\n",
       "</style>\n",
       "<table border=\"1\" class=\"dataframe\">\n",
       "  <thead>\n",
       "    <tr style=\"text-align: right;\">\n",
       "      <th></th>\n",
       "      <th>number</th>\n",
       "      <th>incident_state</th>\n",
       "      <th>active</th>\n",
       "      <th>reassignment_count</th>\n",
       "      <th>reopen_count</th>\n",
       "      <th>sys_mod_count</th>\n",
       "      <th>caller_id</th>\n",
       "      <th>opened_by</th>\n",
       "      <th>opened_at</th>\n",
       "      <th>sys_created_by</th>\n",
       "      <th>...</th>\n",
       "      <th>priority</th>\n",
       "      <th>assignment_group</th>\n",
       "      <th>assigned_to</th>\n",
       "      <th>knowledge</th>\n",
       "      <th>u_priority_confirmation</th>\n",
       "      <th>notify</th>\n",
       "      <th>closed_code</th>\n",
       "      <th>resolved_by</th>\n",
       "      <th>resolved_at</th>\n",
       "      <th>closed_at</th>\n",
       "    </tr>\n",
       "  </thead>\n",
       "  <tbody>\n",
       "    <tr>\n",
       "      <th>0</th>\n",
       "      <td>INC0000045</td>\n",
       "      <td>New</td>\n",
       "      <td>True</td>\n",
       "      <td>0</td>\n",
       "      <td>0</td>\n",
       "      <td>0</td>\n",
       "      <td>Caller 2403</td>\n",
       "      <td>Opened by  8</td>\n",
       "      <td>2016-02-29 01:16:00</td>\n",
       "      <td>Created by 6</td>\n",
       "      <td>...</td>\n",
       "      <td>3 - Moderate</td>\n",
       "      <td>Group 56</td>\n",
       "      <td>NaN</td>\n",
       "      <td>True</td>\n",
       "      <td>False</td>\n",
       "      <td>Do Not Notify</td>\n",
       "      <td>code 5</td>\n",
       "      <td>Resolved by 149</td>\n",
       "      <td>29-02-2016 11:29</td>\n",
       "      <td>2016-05-03 12:00:00</td>\n",
       "    </tr>\n",
       "    <tr>\n",
       "      <th>1</th>\n",
       "      <td>INC0000045</td>\n",
       "      <td>Resolved</td>\n",
       "      <td>True</td>\n",
       "      <td>0</td>\n",
       "      <td>0</td>\n",
       "      <td>2</td>\n",
       "      <td>Caller 2403</td>\n",
       "      <td>Opened by  8</td>\n",
       "      <td>2016-02-29 01:16:00</td>\n",
       "      <td>Created by 6</td>\n",
       "      <td>...</td>\n",
       "      <td>3 - Moderate</td>\n",
       "      <td>Group 56</td>\n",
       "      <td>NaN</td>\n",
       "      <td>True</td>\n",
       "      <td>False</td>\n",
       "      <td>Do Not Notify</td>\n",
       "      <td>code 5</td>\n",
       "      <td>Resolved by 149</td>\n",
       "      <td>29-02-2016 11:29</td>\n",
       "      <td>2016-05-03 12:00:00</td>\n",
       "    </tr>\n",
       "    <tr>\n",
       "      <th>2</th>\n",
       "      <td>INC0000045</td>\n",
       "      <td>Resolved</td>\n",
       "      <td>True</td>\n",
       "      <td>0</td>\n",
       "      <td>0</td>\n",
       "      <td>3</td>\n",
       "      <td>Caller 2403</td>\n",
       "      <td>Opened by  8</td>\n",
       "      <td>2016-02-29 01:16:00</td>\n",
       "      <td>Created by 6</td>\n",
       "      <td>...</td>\n",
       "      <td>3 - Moderate</td>\n",
       "      <td>Group 56</td>\n",
       "      <td>NaN</td>\n",
       "      <td>True</td>\n",
       "      <td>False</td>\n",
       "      <td>Do Not Notify</td>\n",
       "      <td>code 5</td>\n",
       "      <td>Resolved by 149</td>\n",
       "      <td>29-02-2016 11:29</td>\n",
       "      <td>2016-05-03 12:00:00</td>\n",
       "    </tr>\n",
       "    <tr>\n",
       "      <th>3</th>\n",
       "      <td>INC0000045</td>\n",
       "      <td>Closed</td>\n",
       "      <td>False</td>\n",
       "      <td>0</td>\n",
       "      <td>0</td>\n",
       "      <td>4</td>\n",
       "      <td>Caller 2403</td>\n",
       "      <td>Opened by  8</td>\n",
       "      <td>2016-02-29 01:16:00</td>\n",
       "      <td>Created by 6</td>\n",
       "      <td>...</td>\n",
       "      <td>3 - Moderate</td>\n",
       "      <td>Group 56</td>\n",
       "      <td>NaN</td>\n",
       "      <td>True</td>\n",
       "      <td>False</td>\n",
       "      <td>Do Not Notify</td>\n",
       "      <td>code 5</td>\n",
       "      <td>Resolved by 149</td>\n",
       "      <td>29-02-2016 11:29</td>\n",
       "      <td>2016-05-03 12:00:00</td>\n",
       "    </tr>\n",
       "    <tr>\n",
       "      <th>4</th>\n",
       "      <td>INC0000047</td>\n",
       "      <td>New</td>\n",
       "      <td>True</td>\n",
       "      <td>0</td>\n",
       "      <td>0</td>\n",
       "      <td>0</td>\n",
       "      <td>Caller 2403</td>\n",
       "      <td>Opened by  397</td>\n",
       "      <td>2016-02-29 04:40:00</td>\n",
       "      <td>Created by 171</td>\n",
       "      <td>...</td>\n",
       "      <td>3 - Moderate</td>\n",
       "      <td>Group 70</td>\n",
       "      <td>Resolver 89</td>\n",
       "      <td>True</td>\n",
       "      <td>False</td>\n",
       "      <td>Do Not Notify</td>\n",
       "      <td>code 5</td>\n",
       "      <td>Resolved by 81</td>\n",
       "      <td>01-03-2016 09:52</td>\n",
       "      <td>2016-06-03 10:00:00</td>\n",
       "    </tr>\n",
       "  </tbody>\n",
       "</table>\n",
       "<p>5 rows × 30 columns</p>\n",
       "</div>"
      ],
      "text/plain": [
       "       number incident_state  active  reassignment_count  reopen_count  \\\n",
       "0  INC0000045            New    True                   0             0   \n",
       "1  INC0000045       Resolved    True                   0             0   \n",
       "2  INC0000045       Resolved    True                   0             0   \n",
       "3  INC0000045         Closed   False                   0             0   \n",
       "4  INC0000047            New    True                   0             0   \n",
       "\n",
       "   sys_mod_count    caller_id       opened_by           opened_at  \\\n",
       "0              0  Caller 2403    Opened by  8 2016-02-29 01:16:00   \n",
       "1              2  Caller 2403    Opened by  8 2016-02-29 01:16:00   \n",
       "2              3  Caller 2403    Opened by  8 2016-02-29 01:16:00   \n",
       "3              4  Caller 2403    Opened by  8 2016-02-29 01:16:00   \n",
       "4              0  Caller 2403  Opened by  397 2016-02-29 04:40:00   \n",
       "\n",
       "   sys_created_by  ...      priority assignment_group  assigned_to knowledge  \\\n",
       "0    Created by 6  ...  3 - Moderate         Group 56          NaN      True   \n",
       "1    Created by 6  ...  3 - Moderate         Group 56          NaN      True   \n",
       "2    Created by 6  ...  3 - Moderate         Group 56          NaN      True   \n",
       "3    Created by 6  ...  3 - Moderate         Group 56          NaN      True   \n",
       "4  Created by 171  ...  3 - Moderate         Group 70  Resolver 89      True   \n",
       "\n",
       "  u_priority_confirmation         notify closed_code      resolved_by  \\\n",
       "0                   False  Do Not Notify      code 5  Resolved by 149   \n",
       "1                   False  Do Not Notify      code 5  Resolved by 149   \n",
       "2                   False  Do Not Notify      code 5  Resolved by 149   \n",
       "3                   False  Do Not Notify      code 5  Resolved by 149   \n",
       "4                   False  Do Not Notify      code 5   Resolved by 81   \n",
       "\n",
       "        resolved_at           closed_at  \n",
       "0  29-02-2016 11:29 2016-05-03 12:00:00  \n",
       "1  29-02-2016 11:29 2016-05-03 12:00:00  \n",
       "2  29-02-2016 11:29 2016-05-03 12:00:00  \n",
       "3  29-02-2016 11:29 2016-05-03 12:00:00  \n",
       "4  01-03-2016 09:52 2016-06-03 10:00:00  \n",
       "\n",
       "[5 rows x 30 columns]"
      ]
     },
     "execution_count": 145,
     "metadata": {},
     "output_type": "execute_result"
    }
   ],
   "source": [
    "data_cleaned.head()"
   ]
  },
  {
   "cell_type": "markdown",
   "metadata": {},
   "source": [
    "## Fillna"
   ]
  },
  {
   "cell_type": "code",
   "execution_count": 146,
   "metadata": {},
   "outputs": [
    {
     "data": {
      "text/plain": [
       "number                         0\n",
       "incident_state                 0\n",
       "active                         0\n",
       "reassignment_count             0\n",
       "reopen_count                   0\n",
       "sys_mod_count                  0\n",
       "caller_id                     29\n",
       "opened_by                   4835\n",
       "opened_at                      0\n",
       "sys_created_by             53076\n",
       "sys_created_at             53076\n",
       "sys_updated_by                 0\n",
       "sys_updated_at                 0\n",
       "contact_type                   0\n",
       "location                      76\n",
       "category                      78\n",
       "subcategory                  111\n",
       "u_symptom                  32964\n",
       "impact                         0\n",
       "urgency                        0\n",
       "priority                       0\n",
       "assignment_group           14213\n",
       "assigned_to                27496\n",
       "knowledge                      0\n",
       "u_priority_confirmation        0\n",
       "notify                         0\n",
       "closed_code                  714\n",
       "resolved_by                  226\n",
       "resolved_at                 3141\n",
       "closed_at                      0\n",
       "dtype: int64"
      ]
     },
     "execution_count": 146,
     "metadata": {},
     "output_type": "execute_result"
    }
   ],
   "source": [
    "data_cleaned.isna().sum()"
   ]
  },
  {
   "cell_type": "code",
   "execution_count": 147,
   "metadata": {},
   "outputs": [
    {
     "data": {
      "text/plain": [
       "<AxesSubplot:>"
      ]
     },
     "execution_count": 147,
     "metadata": {},
     "output_type": "execute_result"
    },
    {
     "data": {
      "image/png": "[encoded data removed]",
      "text/plain": [
       "<Figure size 432x288 with 1 Axes>"
      ]
     },
     "metadata": {
      "needs_background": "light"
     },
     "output_type": "display_data"
    }
   ],
   "source": [
    "data_cleaned['impact'].value_counts().plot.bar()"
   ]
  },
  {
   "cell_type": "code",
   "execution_count": 148,
   "metadata": {},
   "outputs": [
    {
     "data": {
      "text/plain": [
       "2 - Medium    134335\n",
       "3 - Low         3886\n",
       "1 - High        3491\n",
       "Name: impact, dtype: int64"
      ]
     },
     "execution_count": 148,
     "metadata": {},
     "output_type": "execute_result"
    }
   ],
   "source": [
    "data_cleaned['impact'].value_counts()"
   ]
  },
  {
   "cell_type": "code",
   "execution_count": 149,
   "metadata": {},
   "outputs": [
    {
     "data": {
      "image/png": "[encoded data removed]",
      "text/plain": [
       "<Figure size 432x288 with 1 Axes>"
      ]
     },
     "metadata": {
      "needs_background": "light"
     },
     "output_type": "display_data"
    },
    {
     "data": {
      "image/png": "[encoded data removed]",
      "text/plain": [
       "<Figure size 432x288 with 1 Axes>"
      ]
     },
     "metadata": {
      "needs_background": "light"
     },
     "output_type": "display_data"
    },
    {
     "data": {
      "image/png": "[encoded data removed]",
      "text/plain": [
       "<Figure size 432x288 with 1 Axes>"
      ]
     },
     "metadata": {
      "needs_background": "light"
     },
     "output_type": "display_data"
    },
    {
     "data": {
      "image/png": "[encoded data removed]",
      "text/plain": [
       "<Figure size 432x288 with 1 Axes>"
      ]
     },
     "metadata": {
      "needs_background": "light"
     },
     "output_type": "display_data"
    },
    {
     "data": {
      "image/png": "[encoded data removed]",
      "text/plain": [
       "<Figure size 432x288 with 1 Axes>"
      ]
     },
     "metadata": {
      "needs_background": "light"
     },
     "output_type": "display_data"
    },
    {
     "data": {
      "image/png": "[encoded data removed]",
      "text/plain": [
       "<Figure size 432x288 with 1 Axes>"
      ]
     },
     "metadata": {
      "needs_background": "light"
     },
     "output_type": "display_data"
    }
   ],
   "source": [
    "import matplotlib.pyplot as plt\n",
    "for column in data_cleaned.select_dtypes(include='object'):\n",
    "    if data_cleaned[column].nunique() < 10:\n",
    "        sns.countplot(y=column, data=data_cleaned)\n",
    "        plt.show()"
   ]
  },
  {
   "cell_type": "code",
   "execution_count": null,
   "metadata": {},
   "outputs": [],
   "source": []
  },
  {
   "cell_type": "code",
   "execution_count": null,
   "metadata": {},
   "outputs": [],
   "source": []
  },
  {
   "cell_type": "markdown",
   "metadata": {},
   "source": [
    "#### Creating new class for the missing columns"
   ]
  },
  {
   "cell_type": "code",
   "execution_count": 150,
   "metadata": {},
   "outputs": [],
   "source": [
    "# creating a neww class for missing values  for caller id\n",
    "data_cleaned['caller_id'].fillna(value='caller 4340',inplace=True)\n",
    "\n",
    "# creating a neww class for missing values for opened by\n",
    "data_cleaned['opened_by'].fillna(value = 'Opened by 4341', inplace=True)\n",
    "\n",
    "# creating a neww class for missing values for sys created by\n",
    "data_cleaned['sys_created_by'].fillna(value='Created by 4342', inplace=True)\n",
    "\n",
    "# creating a neww class for missing values for location\n",
    "data_cleaned['location'].fillna('Location 4343', inplace=True)\n",
    "\n",
    "# creating a neww class for missing values for category\n",
    "data_cleaned['category'].fillna('Category 4344',inplace=True)\n",
    "\n",
    "# creating a neww class for missing values for subcategory\n",
    "data_cleaned['subcategory'].fillna(value='Subcategory 4345',inplace=True)\n",
    "\n",
    "# creating a neww class for missing values for symptoms\n",
    "data_cleaned['u_symptom'].fillna(value='Symptom 4346', inplace=True)\n",
    "\n",
    "# creating a neww class for missing values for assignment group\n",
    "data_cleaned['assignment_group'].fillna(value='Group 4347',inplace=True)\n",
    "\n",
    "# creating a neww class for missing values for resolver\n",
    "data_cleaned['assigned_to'].fillna(value='Resolver 4348',inplace=True)\n",
    "\n",
    "\n",
    "# replacing with mode\n",
    "#data_cleaned['closed_code'].fillna(data_cleaned['closed_code'].mode()[0],inplace=True)\n",
    "data_cleaned['resolved_by'].fillna(data_cleaned['resolved_by'].mode()[0],inplace=True)"
   ]
  },
  {
   "cell_type": "code",
   "execution_count": 151,
   "metadata": {},
   "outputs": [
    {
     "data": {
      "text/plain": [
       "number                         0\n",
       "incident_state                 0\n",
       "active                         0\n",
       "reassignment_count             0\n",
       "reopen_count                   0\n",
       "sys_mod_count                  0\n",
       "caller_id                      0\n",
       "opened_by                      0\n",
       "opened_at                      0\n",
       "sys_created_by                 0\n",
       "sys_created_at             53076\n",
       "sys_updated_by                 0\n",
       "sys_updated_at                 0\n",
       "contact_type                   0\n",
       "location                       0\n",
       "category                       0\n",
       "subcategory                    0\n",
       "u_symptom                      0\n",
       "impact                         0\n",
       "urgency                        0\n",
       "priority                       0\n",
       "assignment_group               0\n",
       "assigned_to                    0\n",
       "knowledge                      0\n",
       "u_priority_confirmation        0\n",
       "notify                         0\n",
       "closed_code                  714\n",
       "resolved_by                    0\n",
       "resolved_at                 3141\n",
       "closed_at                      0\n",
       "dtype: int64"
      ]
     },
     "execution_count": 151,
     "metadata": {},
     "output_type": "execute_result"
    }
   ],
   "source": [
    "data_cleaned.isna().sum()"
   ]
  },
  {
   "cell_type": "markdown",
   "metadata": {},
   "source": [
    "### Drop the columns whose date is missing"
   ]
  },
  {
   "cell_type": "code",
   "execution_count": 152,
   "metadata": {},
   "outputs": [],
   "source": [
    "drop = ['resolved_at','closed_code']\n",
    "data_cleaned.drop(drop,axis=1,inplace=True)"
   ]
  },
  {
   "cell_type": "markdown",
   "metadata": {},
   "source": [
    "## Encoding the features"
   ]
  },
  {
   "cell_type": "code",
   "execution_count": 153,
   "metadata": {},
   "outputs": [
    {
     "data": {
      "text/plain": [
       "LabelEncoder()"
      ]
     },
     "execution_count": 153,
     "metadata": {},
     "output_type": "execute_result"
    }
   ],
   "source": [
    "le = LabelEncoder()\n",
    "le"
   ]
  },
  {
   "cell_type": "code",
   "execution_count": 154,
   "metadata": {},
   "outputs": [],
   "source": [
    "columns_to_be_label_encoded =['active',\n",
    "                         'contact_type',\n",
    "                         'knowledge',\n",
    "                         'u_priority_confirmation',\n",
    "                         'notify',\n",
    "                         'incident_state',\n",
    "                         'caller_id',\n",
    "                         'opened_by',\n",
    "                         'sys_created_by',\n",
    "                         'sys_updated_by',\n",
    "                         'location',\n",
    "                         'category',\n",
    "                         'subcategory',\n",
    "                         'u_symptom',\n",
    "                         'assignment_group',\n",
    "                         'assigned_to',\n",
    "                         'resolved_by',\n",
    "                         'number',\n",
    "                        'impact',\n",
    "                        'urgency',\n",
    "                        'priority']"
   ]
  },
  {
   "cell_type": "code",
   "execution_count": 155,
   "metadata": {},
   "outputs": [],
   "source": [
    "for i in columns_to_be_label_encoded:\n",
    "    data_cleaned[i] = le.fit_transform(data_cleaned[i])"
   ]
  },
  {
   "cell_type": "code",
   "execution_count": 156,
   "metadata": {
    "scrolled": true
   },
   "outputs": [
    {
     "name": "stdout",
     "output_type": "stream",
     "text": [
      "<class 'pandas.core.frame.DataFrame'>\n",
      "RangeIndex: 141712 entries, 0 to 141711\n",
      "Data columns (total 28 columns):\n",
      " #   Column                   Non-Null Count   Dtype         \n",
      "---  ------                   --------------   -----         \n",
      " 0   number                   141712 non-null  int32         \n",
      " 1   incident_state           141712 non-null  int32         \n",
      " 2   active                   141712 non-null  int64         \n",
      " 3   reassignment_count       141712 non-null  int64         \n",
      " 4   reopen_count             141712 non-null  int64         \n",
      " 5   sys_mod_count            141712 non-null  int64         \n",
      " 6   caller_id                141712 non-null  int32         \n",
      " 7   opened_by                141712 non-null  int32         \n",
      " 8   opened_at                141712 non-null  datetime64[ns]\n",
      " 9   sys_created_by           141712 non-null  int32         \n",
      " 10  sys_created_at           88636 non-null   object        \n",
      " 11  sys_updated_by           141712 non-null  int32         \n",
      " 12  sys_updated_at           141712 non-null  object        \n",
      " 13  contact_type             141712 non-null  int32         \n",
      " 14  location                 141712 non-null  int32         \n",
      " 15  category                 141712 non-null  int32         \n",
      " 16  subcategory              141712 non-null  int32         \n",
      " 17  u_symptom                141712 non-null  int32         \n",
      " 18  impact                   141712 non-null  int32         \n",
      " 19  urgency                  141712 non-null  int32         \n",
      " 20  priority                 141712 non-null  int32         \n",
      " 21  assignment_group         141712 non-null  int32         \n",
      " 22  assigned_to              141712 non-null  int32         \n",
      " 23  knowledge                141712 non-null  int64         \n",
      " 24  u_priority_confirmation  141712 non-null  int64         \n",
      " 25  notify                   141712 non-null  int32         \n",
      " 26  resolved_by              141712 non-null  int32         \n",
      " 27  closed_at                141712 non-null  datetime64[ns]\n",
      "dtypes: datetime64[ns](2), int32(18), int64(6), object(2)\n",
      "memory usage: 20.5+ MB\n"
     ]
    }
   ],
   "source": [
    "data_cleaned.info()"
   ]
  },
  {
   "cell_type": "code",
   "execution_count": 157,
   "metadata": {},
   "outputs": [],
   "source": [
    "###using ordinal Encoding for the ordinal Data "
   ]
  },
  {
   "cell_type": "code",
   "execution_count": 158,
   "metadata": {},
   "outputs": [],
   "source": [
    "#columns_to_be_ordinal_encoded = ['impact','urgency','priority']\n",
    "#from sklearn.preprocessing import OrdinalEncoder\n",
    "#oe = OrdinalEncoder()\n",
    "\n",
    "#for i in columns_to_be_ordinal_encoded:\n",
    "    #data_cleaned[i] = oe.fit_transform(data_cleaned[i].values.reshape(-1,1))"
   ]
  },
  {
   "cell_type": "code",
   "execution_count": 159,
   "metadata": {},
   "outputs": [
    {
     "name": "stdout",
     "output_type": "stream",
     "text": [
      "<class 'pandas.core.frame.DataFrame'>\n",
      "RangeIndex: 141712 entries, 0 to 141711\n",
      "Data columns (total 28 columns):\n",
      " #   Column                   Non-Null Count   Dtype         \n",
      "---  ------                   --------------   -----         \n",
      " 0   number                   141712 non-null  int32         \n",
      " 1   incident_state           141712 non-null  int32         \n",
      " 2   active                   141712 non-null  int64         \n",
      " 3   reassignment_count       141712 non-null  int64         \n",
      " 4   reopen_count             141712 non-null  int64         \n",
      " 5   sys_mod_count            141712 non-null  int64         \n",
      " 6   caller_id                141712 non-null  int32         \n",
      " 7   opened_by                141712 non-null  int32         \n",
      " 8   opened_at                141712 non-null  datetime64[ns]\n",
      " 9   sys_created_by           141712 non-null  int32         \n",
      " 10  sys_created_at           88636 non-null   object        \n",
      " 11  sys_updated_by           141712 non-null  int32         \n",
      " 12  sys_updated_at           141712 non-null  object        \n",
      " 13  contact_type             141712 non-null  int32         \n",
      " 14  location                 141712 non-null  int32         \n",
      " 15  category                 141712 non-null  int32         \n",
      " 16  subcategory              141712 non-null  int32         \n",
      " 17  u_symptom                141712 non-null  int32         \n",
      " 18  impact                   141712 non-null  int32         \n",
      " 19  urgency                  141712 non-null  int32         \n",
      " 20  priority                 141712 non-null  int32         \n",
      " 21  assignment_group         141712 non-null  int32         \n",
      " 22  assigned_to              141712 non-null  int32         \n",
      " 23  knowledge                141712 non-null  int64         \n",
      " 24  u_priority_confirmation  141712 non-null  int64         \n",
      " 25  notify                   141712 non-null  int32         \n",
      " 26  resolved_by              141712 non-null  int32         \n",
      " 27  closed_at                141712 non-null  datetime64[ns]\n",
      "dtypes: datetime64[ns](2), int32(18), int64(6), object(2)\n",
      "memory usage: 20.5+ MB\n"
     ]
    }
   ],
   "source": [
    "data_cleaned.info()"
   ]
  },
  {
   "cell_type": "code",
   "execution_count": 160,
   "metadata": {},
   "outputs": [
    {
     "data": {
      "text/html": [
       "<div>\n",
       "<style scoped>\n",
       "    .dataframe tbody tr th:only-of-type {\n",
       "        vertical-align: middle;\n",
       "    }\n",
       "\n",
       "    .dataframe tbody tr th {\n",
       "        vertical-align: top;\n",
       "    }\n",
       "\n",
       "    .dataframe thead th {\n",
       "        text-align: right;\n",
       "    }\n",
       "</style>\n",
       "<table border=\"1\" class=\"dataframe\">\n",
       "  <thead>\n",
       "    <tr style=\"text-align: right;\">\n",
       "      <th></th>\n",
       "      <th>number</th>\n",
       "      <th>incident_state</th>\n",
       "      <th>active</th>\n",
       "      <th>reassignment_count</th>\n",
       "      <th>reopen_count</th>\n",
       "      <th>sys_mod_count</th>\n",
       "      <th>caller_id</th>\n",
       "      <th>opened_by</th>\n",
       "      <th>opened_at</th>\n",
       "      <th>sys_created_by</th>\n",
       "      <th>...</th>\n",
       "      <th>impact</th>\n",
       "      <th>urgency</th>\n",
       "      <th>priority</th>\n",
       "      <th>assignment_group</th>\n",
       "      <th>assigned_to</th>\n",
       "      <th>knowledge</th>\n",
       "      <th>u_priority_confirmation</th>\n",
       "      <th>notify</th>\n",
       "      <th>resolved_by</th>\n",
       "      <th>closed_at</th>\n",
       "    </tr>\n",
       "  </thead>\n",
       "  <tbody>\n",
       "    <tr>\n",
       "      <th>141707</th>\n",
       "      <td>24916</td>\n",
       "      <td>6</td>\n",
       "      <td>0</td>\n",
       "      <td>1</td>\n",
       "      <td>0</td>\n",
       "      <td>4</td>\n",
       "      <td>168</td>\n",
       "      <td>9</td>\n",
       "      <td>2017-02-16 09:09:00</td>\n",
       "      <td>134</td>\n",
       "      <td>...</td>\n",
       "      <td>1</td>\n",
       "      <td>1</td>\n",
       "      <td>2</td>\n",
       "      <td>23</td>\n",
       "      <td>0</td>\n",
       "      <td>0</td>\n",
       "      <td>1</td>\n",
       "      <td>0</td>\n",
       "      <td>205</td>\n",
       "      <td>2017-02-16 09:53:00</td>\n",
       "    </tr>\n",
       "    <tr>\n",
       "      <th>141708</th>\n",
       "      <td>24917</td>\n",
       "      <td>1</td>\n",
       "      <td>1</td>\n",
       "      <td>0</td>\n",
       "      <td>0</td>\n",
       "      <td>0</td>\n",
       "      <td>168</td>\n",
       "      <td>9</td>\n",
       "      <td>2017-02-16 14:17:00</td>\n",
       "      <td>134</td>\n",
       "      <td>...</td>\n",
       "      <td>1</td>\n",
       "      <td>1</td>\n",
       "      <td>2</td>\n",
       "      <td>64</td>\n",
       "      <td>0</td>\n",
       "      <td>0</td>\n",
       "      <td>0</td>\n",
       "      <td>0</td>\n",
       "      <td>205</td>\n",
       "      <td>2017-02-16 16:38:00</td>\n",
       "    </tr>\n",
       "    <tr>\n",
       "      <th>141709</th>\n",
       "      <td>24917</td>\n",
       "      <td>1</td>\n",
       "      <td>1</td>\n",
       "      <td>1</td>\n",
       "      <td>0</td>\n",
       "      <td>1</td>\n",
       "      <td>168</td>\n",
       "      <td>9</td>\n",
       "      <td>2017-02-16 14:17:00</td>\n",
       "      <td>134</td>\n",
       "      <td>...</td>\n",
       "      <td>1</td>\n",
       "      <td>1</td>\n",
       "      <td>2</td>\n",
       "      <td>23</td>\n",
       "      <td>181</td>\n",
       "      <td>0</td>\n",
       "      <td>0</td>\n",
       "      <td>0</td>\n",
       "      <td>205</td>\n",
       "      <td>2017-02-16 16:38:00</td>\n",
       "    </tr>\n",
       "    <tr>\n",
       "      <th>141710</th>\n",
       "      <td>24917</td>\n",
       "      <td>8</td>\n",
       "      <td>1</td>\n",
       "      <td>1</td>\n",
       "      <td>0</td>\n",
       "      <td>2</td>\n",
       "      <td>168</td>\n",
       "      <td>9</td>\n",
       "      <td>2017-02-16 14:17:00</td>\n",
       "      <td>134</td>\n",
       "      <td>...</td>\n",
       "      <td>1</td>\n",
       "      <td>1</td>\n",
       "      <td>2</td>\n",
       "      <td>23</td>\n",
       "      <td>0</td>\n",
       "      <td>0</td>\n",
       "      <td>1</td>\n",
       "      <td>0</td>\n",
       "      <td>205</td>\n",
       "      <td>2017-02-16 16:38:00</td>\n",
       "    </tr>\n",
       "    <tr>\n",
       "      <th>141711</th>\n",
       "      <td>24917</td>\n",
       "      <td>6</td>\n",
       "      <td>0</td>\n",
       "      <td>1</td>\n",
       "      <td>0</td>\n",
       "      <td>3</td>\n",
       "      <td>168</td>\n",
       "      <td>9</td>\n",
       "      <td>2017-02-16 14:17:00</td>\n",
       "      <td>134</td>\n",
       "      <td>...</td>\n",
       "      <td>1</td>\n",
       "      <td>1</td>\n",
       "      <td>2</td>\n",
       "      <td>23</td>\n",
       "      <td>0</td>\n",
       "      <td>0</td>\n",
       "      <td>1</td>\n",
       "      <td>0</td>\n",
       "      <td>205</td>\n",
       "      <td>2017-02-16 16:38:00</td>\n",
       "    </tr>\n",
       "  </tbody>\n",
       "</table>\n",
       "<p>5 rows × 28 columns</p>\n",
       "</div>"
      ],
      "text/plain": [
       "        number  incident_state  active  reassignment_count  reopen_count  \\\n",
       "141707   24916               6       0                   1             0   \n",
       "141708   24917               1       1                   0             0   \n",
       "141709   24917               1       1                   1             0   \n",
       "141710   24917               8       1                   1             0   \n",
       "141711   24917               6       0                   1             0   \n",
       "\n",
       "        sys_mod_count  caller_id  opened_by           opened_at  \\\n",
       "141707              4        168          9 2017-02-16 09:09:00   \n",
       "141708              0        168          9 2017-02-16 14:17:00   \n",
       "141709              1        168          9 2017-02-16 14:17:00   \n",
       "141710              2        168          9 2017-02-16 14:17:00   \n",
       "141711              3        168          9 2017-02-16 14:17:00   \n",
       "\n",
       "        sys_created_by  ... impact  urgency priority  assignment_group  \\\n",
       "141707             134  ...      1        1        2                23   \n",
       "141708             134  ...      1        1        2                64   \n",
       "141709             134  ...      1        1        2                23   \n",
       "141710             134  ...      1        1        2                23   \n",
       "141711             134  ...      1        1        2                23   \n",
       "\n",
       "        assigned_to  knowledge  u_priority_confirmation  notify  resolved_by  \\\n",
       "141707            0          0                        1       0          205   \n",
       "141708            0          0                        0       0          205   \n",
       "141709          181          0                        0       0          205   \n",
       "141710            0          0                        1       0          205   \n",
       "141711            0          0                        1       0          205   \n",
       "\n",
       "                 closed_at  \n",
       "141707 2017-02-16 09:53:00  \n",
       "141708 2017-02-16 16:38:00  \n",
       "141709 2017-02-16 16:38:00  \n",
       "141710 2017-02-16 16:38:00  \n",
       "141711 2017-02-16 16:38:00  \n",
       "\n",
       "[5 rows x 28 columns]"
      ]
     },
     "execution_count": 160,
     "metadata": {},
     "output_type": "execute_result"
    }
   ],
   "source": [
    "data_cleaned.tail()"
   ]
  },
  {
   "cell_type": "markdown",
   "metadata": {},
   "source": [
    "## Data visualizations"
   ]
  },
  {
   "cell_type": "code",
   "execution_count": 161,
   "metadata": {},
   "outputs": [
    {
     "data": {
      "image/png": "[encoded data removed]",
      "text/plain": [
       "<Figure size 1440x1296 with 25 Axes>"
      ]
     },
     "metadata": {
      "needs_background": "light"
     },
     "output_type": "display_data"
    }
   ],
   "source": [
    "# histograms\n",
    "data_cleaned.hist(figsize=(20, 18))\n",
    "pyplot.show()"
   ]
  },
  {
   "cell_type": "code",
   "execution_count": 162,
   "metadata": {},
   "outputs": [],
   "source": [
    "for column in data_cleaned.select_dtypes(include='object'):\n",
    "    if data_cleaned[column].nunique() < 10:\n",
    "        sns.countplot(y=column, data=data_cleaned)\n",
    "        plt.show()"
   ]
  },
  {
   "cell_type": "code",
   "execution_count": 163,
   "metadata": {},
   "outputs": [],
   "source": [
    "# Scatterplot Matrix\n",
    "#from pandas.plotting import scatter_matrix\n",
    "\n",
    "#scatter_matrix(data_cleaned)\n",
    "#pyplot.show()"
   ]
  },
  {
   "cell_type": "code",
   "execution_count": 164,
   "metadata": {},
   "outputs": [],
   "source": [
    "#Heat-Map\n",
    "#import seaborn as sns\n",
    "#cols = data_cleaned.columns\n",
    "#colours = ['#ffff00','#000099']\n",
    "#sns.heatmap(data_cleaned[cols].isnull(),\n",
    "           #cmap=sns.color_palette(colours))"
   ]
  },
  {
   "cell_type": "code",
   "execution_count": null,
   "metadata": {},
   "outputs": [],
   "source": []
  },
  {
   "cell_type": "markdown",
   "metadata": {},
   "source": [
    "## different column has been created for day,date & year inorder to perform feature selection"
   ]
  },
  {
   "cell_type": "code",
   "execution_count": 165,
   "metadata": {},
   "outputs": [],
   "source": [
    "#data_cleaned[\"updated_day\"]=pd.to_datetime(data_cleaned.sys_updated_at).dt.day\n",
    "#data_cleaned[\"updated_month\"]=pd.to_datetime(data_cleaned.sys_updated_at).dt.month\n",
    "#data_cleaned[\"updated_year\"]=pd.to_datetime(data_cleaned.sys_updated_at).dt.year\n",
    "#data_cleaned[\"updated_hr\"]=pd.to_datetime(data_cleaned.sys_updated_at).dt.hour\n",
    "#data_cleaned[\"updated_minute\"]=pd.to_datetime(data_cleaned.sys_updated_at).dt.minute\n",
    "\n",
    "data_cleaned[\"opened_at_day\"]=pd.to_datetime(data_cleaned.opened_at).dt.day\n",
    "data_cleaned[\"opened_at_month\"]=pd.to_datetime(data_cleaned.opened_at).dt.month\n",
    "data_cleaned[\"opened_at_year\"]=pd.to_datetime(data_cleaned.opened_at).dt.year\n",
    "data_cleaned[\"opened_at_hr\"]=pd.to_datetime(data_cleaned.opened_at).dt.hour\n",
    "data_cleaned[\"opened_at_minute\"]=pd.to_datetime(data_cleaned.opened_at).dt.minute\n",
    "\n",
    "data_cleaned[\"closed_at_day\"]=pd.to_datetime(data_cleaned.closed_at).dt.day\n",
    "data_cleaned[\"closed_at_month\"]=pd.to_datetime(data_cleaned.closed_at).dt.month\n",
    "data_cleaned[\"closed_at_year\"]=pd.to_datetime(data_cleaned.closed_at).dt.year\n",
    "data_cleaned[\"closed_at_hr\"]=pd.to_datetime(data_cleaned.closed_at).dt.hour\n",
    "data_cleaned[\"closed_at_minute\"]=pd.to_datetime(data_cleaned.closed_at).dt.minute\n",
    "\n",
    "#data_cleaned[\"created_at_day\"]=pd.to_datetime(data_cleaned.sys_created_at).dt.day\n",
    "#data_cleaned[\"created_at_month\"]=pd.to_datetime(data_cleaned.sys_created_at).dt.month\n",
    "#data_cleaned[\"created_at_year\"]=pd.to_datetime(data_cleaned.sys_created_at).dt.year\n",
    "#data_cleaned[\"created_at_hr\"]=pd.to_datetime(data_cleaned.sys_created_at).dt.hour\n",
    "#data_cleaned[\"created_at_minute\"]=pd.to_datetime(data_cleaned.sys_created_at).dt.minute"
   ]
  },
  {
   "cell_type": "code",
   "execution_count": 166,
   "metadata": {},
   "outputs": [],
   "source": [
    "data_cleaned.drop(['opened_at','closed_at'],axis=1,inplace=True)"
   ]
  },
  {
   "cell_type": "code",
   "execution_count": 167,
   "metadata": {},
   "outputs": [],
   "source": [
    "data_cleaned.drop(['sys_updated_at','sys_created_at'],axis=1,inplace=True)"
   ]
  },
  {
   "cell_type": "code",
   "execution_count": 168,
   "metadata": {},
   "outputs": [
    {
     "data": {
      "text/html": [
       "<div>\n",
       "<style scoped>\n",
       "    .dataframe tbody tr th:only-of-type {\n",
       "        vertical-align: middle;\n",
       "    }\n",
       "\n",
       "    .dataframe tbody tr th {\n",
       "        vertical-align: top;\n",
       "    }\n",
       "\n",
       "    .dataframe thead th {\n",
       "        text-align: right;\n",
       "    }\n",
       "</style>\n",
       "<table border=\"1\" class=\"dataframe\">\n",
       "  <thead>\n",
       "    <tr style=\"text-align: right;\">\n",
       "      <th></th>\n",
       "      <th>number</th>\n",
       "      <th>incident_state</th>\n",
       "      <th>active</th>\n",
       "      <th>reassignment_count</th>\n",
       "      <th>reopen_count</th>\n",
       "      <th>sys_mod_count</th>\n",
       "      <th>caller_id</th>\n",
       "      <th>opened_by</th>\n",
       "      <th>sys_created_by</th>\n",
       "      <th>sys_updated_by</th>\n",
       "      <th>...</th>\n",
       "      <th>opened_at_day</th>\n",
       "      <th>opened_at_month</th>\n",
       "      <th>opened_at_year</th>\n",
       "      <th>opened_at_hr</th>\n",
       "      <th>opened_at_minute</th>\n",
       "      <th>closed_at_day</th>\n",
       "      <th>closed_at_month</th>\n",
       "      <th>closed_at_year</th>\n",
       "      <th>closed_at_hr</th>\n",
       "      <th>closed_at_minute</th>\n",
       "    </tr>\n",
       "  </thead>\n",
       "  <tbody>\n",
       "    <tr>\n",
       "      <th>0</th>\n",
       "      <td>0</td>\n",
       "      <td>7</td>\n",
       "      <td>1</td>\n",
       "      <td>0</td>\n",
       "      <td>0</td>\n",
       "      <td>0</td>\n",
       "      <td>1462</td>\n",
       "      <td>200</td>\n",
       "      <td>152</td>\n",
       "      <td>104</td>\n",
       "      <td>...</td>\n",
       "      <td>29</td>\n",
       "      <td>2</td>\n",
       "      <td>2016</td>\n",
       "      <td>1</td>\n",
       "      <td>16</td>\n",
       "      <td>3</td>\n",
       "      <td>5</td>\n",
       "      <td>2016</td>\n",
       "      <td>12</td>\n",
       "      <td>0</td>\n",
       "    </tr>\n",
       "    <tr>\n",
       "      <th>1</th>\n",
       "      <td>0</td>\n",
       "      <td>8</td>\n",
       "      <td>1</td>\n",
       "      <td>0</td>\n",
       "      <td>0</td>\n",
       "      <td>2</td>\n",
       "      <td>1462</td>\n",
       "      <td>200</td>\n",
       "      <td>152</td>\n",
       "      <td>509</td>\n",
       "      <td>...</td>\n",
       "      <td>29</td>\n",
       "      <td>2</td>\n",
       "      <td>2016</td>\n",
       "      <td>1</td>\n",
       "      <td>16</td>\n",
       "      <td>3</td>\n",
       "      <td>5</td>\n",
       "      <td>2016</td>\n",
       "      <td>12</td>\n",
       "      <td>0</td>\n",
       "    </tr>\n",
       "    <tr>\n",
       "      <th>2</th>\n",
       "      <td>0</td>\n",
       "      <td>8</td>\n",
       "      <td>1</td>\n",
       "      <td>0</td>\n",
       "      <td>0</td>\n",
       "      <td>3</td>\n",
       "      <td>1462</td>\n",
       "      <td>200</td>\n",
       "      <td>152</td>\n",
       "      <td>658</td>\n",
       "      <td>...</td>\n",
       "      <td>29</td>\n",
       "      <td>2</td>\n",
       "      <td>2016</td>\n",
       "      <td>1</td>\n",
       "      <td>16</td>\n",
       "      <td>3</td>\n",
       "      <td>5</td>\n",
       "      <td>2016</td>\n",
       "      <td>12</td>\n",
       "      <td>0</td>\n",
       "    </tr>\n",
       "    <tr>\n",
       "      <th>3</th>\n",
       "      <td>0</td>\n",
       "      <td>6</td>\n",
       "      <td>0</td>\n",
       "      <td>0</td>\n",
       "      <td>0</td>\n",
       "      <td>4</td>\n",
       "      <td>1462</td>\n",
       "      <td>200</td>\n",
       "      <td>152</td>\n",
       "      <td>762</td>\n",
       "      <td>...</td>\n",
       "      <td>29</td>\n",
       "      <td>2</td>\n",
       "      <td>2016</td>\n",
       "      <td>1</td>\n",
       "      <td>16</td>\n",
       "      <td>3</td>\n",
       "      <td>5</td>\n",
       "      <td>2016</td>\n",
       "      <td>12</td>\n",
       "      <td>0</td>\n",
       "    </tr>\n",
       "    <tr>\n",
       "      <th>4</th>\n",
       "      <td>1</td>\n",
       "      <td>7</td>\n",
       "      <td>1</td>\n",
       "      <td>0</td>\n",
       "      <td>0</td>\n",
       "      <td>0</td>\n",
       "      <td>1462</td>\n",
       "      <td>120</td>\n",
       "      <td>58</td>\n",
       "      <td>605</td>\n",
       "      <td>...</td>\n",
       "      <td>29</td>\n",
       "      <td>2</td>\n",
       "      <td>2016</td>\n",
       "      <td>4</td>\n",
       "      <td>40</td>\n",
       "      <td>3</td>\n",
       "      <td>6</td>\n",
       "      <td>2016</td>\n",
       "      <td>10</td>\n",
       "      <td>0</td>\n",
       "    </tr>\n",
       "  </tbody>\n",
       "</table>\n",
       "<p>5 rows × 34 columns</p>\n",
       "</div>"
      ],
      "text/plain": [
       "   number  incident_state  active  reassignment_count  reopen_count  \\\n",
       "0       0               7       1                   0             0   \n",
       "1       0               8       1                   0             0   \n",
       "2       0               8       1                   0             0   \n",
       "3       0               6       0                   0             0   \n",
       "4       1               7       1                   0             0   \n",
       "\n",
       "   sys_mod_count  caller_id  opened_by  sys_created_by  sys_updated_by  ...  \\\n",
       "0              0       1462        200             152             104  ...   \n",
       "1              2       1462        200             152             509  ...   \n",
       "2              3       1462        200             152             658  ...   \n",
       "3              4       1462        200             152             762  ...   \n",
       "4              0       1462        120              58             605  ...   \n",
       "\n",
       "   opened_at_day  opened_at_month  opened_at_year  opened_at_hr  \\\n",
       "0             29                2            2016             1   \n",
       "1             29                2            2016             1   \n",
       "2             29                2            2016             1   \n",
       "3             29                2            2016             1   \n",
       "4             29                2            2016             4   \n",
       "\n",
       "   opened_at_minute  closed_at_day  closed_at_month  closed_at_year  \\\n",
       "0                16              3                5            2016   \n",
       "1                16              3                5            2016   \n",
       "2                16              3                5            2016   \n",
       "3                16              3                5            2016   \n",
       "4                40              3                6            2016   \n",
       "\n",
       "   closed_at_hr  closed_at_minute  \n",
       "0            12                 0  \n",
       "1            12                 0  \n",
       "2            12                 0  \n",
       "3            12                 0  \n",
       "4            10                 0  \n",
       "\n",
       "[5 rows x 34 columns]"
      ]
     },
     "execution_count": 168,
     "metadata": {},
     "output_type": "execute_result"
    }
   ],
   "source": [
    "data_cleaned.head()"
   ]
  },
  {
   "cell_type": "code",
   "execution_count": 169,
   "metadata": {},
   "outputs": [
    {
     "data": {
      "text/plain": [
       "Index(['number', 'incident_state', 'active', 'reassignment_count',\n",
       "       'reopen_count', 'sys_mod_count', 'caller_id', 'opened_by',\n",
       "       'sys_created_by', 'sys_updated_by', 'contact_type', 'location',\n",
       "       'category', 'subcategory', 'u_symptom', 'impact', 'urgency', 'priority',\n",
       "       'assignment_group', 'assigned_to', 'knowledge',\n",
       "       'u_priority_confirmation', 'notify', 'resolved_by', 'opened_at_day',\n",
       "       'opened_at_month', 'opened_at_year', 'opened_at_hr', 'opened_at_minute',\n",
       "       'closed_at_day', 'closed_at_month', 'closed_at_year', 'closed_at_hr',\n",
       "       'closed_at_minute'],\n",
       "      dtype='object')"
      ]
     },
     "execution_count": 169,
     "metadata": {},
     "output_type": "execute_result"
    }
   ],
   "source": [
    "data_cleaned.columns"
   ]
  },
  {
   "cell_type": "code",
   "execution_count": 170,
   "metadata": {},
   "outputs": [
    {
     "data": {
      "text/plain": [
       "number                     int32\n",
       "incident_state             int32\n",
       "active                     int64\n",
       "reassignment_count         int64\n",
       "reopen_count               int64\n",
       "sys_mod_count              int64\n",
       "caller_id                  int32\n",
       "opened_by                  int32\n",
       "sys_created_by             int32\n",
       "sys_updated_by             int32\n",
       "contact_type               int32\n",
       "location                   int32\n",
       "category                   int32\n",
       "subcategory                int32\n",
       "u_symptom                  int32\n",
       "impact                     int32\n",
       "urgency                    int32\n",
       "priority                   int32\n",
       "assignment_group           int32\n",
       "assigned_to                int32\n",
       "knowledge                  int64\n",
       "u_priority_confirmation    int64\n",
       "notify                     int32\n",
       "resolved_by                int32\n",
       "opened_at_day              int64\n",
       "opened_at_month            int64\n",
       "opened_at_year             int64\n",
       "opened_at_hr               int64\n",
       "opened_at_minute           int64\n",
       "closed_at_day              int64\n",
       "closed_at_month            int64\n",
       "closed_at_year             int64\n",
       "closed_at_hr               int64\n",
       "closed_at_minute           int64\n",
       "dtype: object"
      ]
     },
     "execution_count": 170,
     "metadata": {},
     "output_type": "execute_result"
    }
   ],
   "source": [
    "data_cleaned.dtypes"
   ]
  },
  {
   "cell_type": "code",
   "execution_count": 171,
   "metadata": {},
   "outputs": [],
   "source": [
    "data_cleaned.drop(['number','reassignment_count','reopen_count','sys_updated_by','assignment_group','assigned_to'],axis=1,inplace=True)"
   ]
  },
  {
   "cell_type": "code",
   "execution_count": 172,
   "metadata": {},
   "outputs": [
    {
     "data": {
      "text/html": [
       "<div>\n",
       "<style scoped>\n",
       "    .dataframe tbody tr th:only-of-type {\n",
       "        vertical-align: middle;\n",
       "    }\n",
       "\n",
       "    .dataframe tbody tr th {\n",
       "        vertical-align: top;\n",
       "    }\n",
       "\n",
       "    .dataframe thead th {\n",
       "        text-align: right;\n",
       "    }\n",
       "</style>\n",
       "<table border=\"1\" class=\"dataframe\">\n",
       "  <thead>\n",
       "    <tr style=\"text-align: right;\">\n",
       "      <th></th>\n",
       "      <th>incident_state</th>\n",
       "      <th>active</th>\n",
       "      <th>sys_mod_count</th>\n",
       "      <th>caller_id</th>\n",
       "      <th>opened_by</th>\n",
       "      <th>sys_created_by</th>\n",
       "      <th>contact_type</th>\n",
       "      <th>location</th>\n",
       "      <th>category</th>\n",
       "      <th>subcategory</th>\n",
       "      <th>...</th>\n",
       "      <th>opened_at_day</th>\n",
       "      <th>opened_at_month</th>\n",
       "      <th>opened_at_year</th>\n",
       "      <th>opened_at_hr</th>\n",
       "      <th>opened_at_minute</th>\n",
       "      <th>closed_at_day</th>\n",
       "      <th>closed_at_month</th>\n",
       "      <th>closed_at_year</th>\n",
       "      <th>closed_at_hr</th>\n",
       "      <th>closed_at_minute</th>\n",
       "    </tr>\n",
       "  </thead>\n",
       "  <tbody>\n",
       "    <tr>\n",
       "      <th>0</th>\n",
       "      <td>7</td>\n",
       "      <td>1</td>\n",
       "      <td>0</td>\n",
       "      <td>1462</td>\n",
       "      <td>200</td>\n",
       "      <td>152</td>\n",
       "      <td>3</td>\n",
       "      <td>43</td>\n",
       "      <td>47</td>\n",
       "      <td>69</td>\n",
       "      <td>...</td>\n",
       "      <td>29</td>\n",
       "      <td>2</td>\n",
       "      <td>2016</td>\n",
       "      <td>1</td>\n",
       "      <td>16</td>\n",
       "      <td>3</td>\n",
       "      <td>5</td>\n",
       "      <td>2016</td>\n",
       "      <td>12</td>\n",
       "      <td>0</td>\n",
       "    </tr>\n",
       "    <tr>\n",
       "      <th>1</th>\n",
       "      <td>8</td>\n",
       "      <td>1</td>\n",
       "      <td>2</td>\n",
       "      <td>1462</td>\n",
       "      <td>200</td>\n",
       "      <td>152</td>\n",
       "      <td>3</td>\n",
       "      <td>43</td>\n",
       "      <td>47</td>\n",
       "      <td>69</td>\n",
       "      <td>...</td>\n",
       "      <td>29</td>\n",
       "      <td>2</td>\n",
       "      <td>2016</td>\n",
       "      <td>1</td>\n",
       "      <td>16</td>\n",
       "      <td>3</td>\n",
       "      <td>5</td>\n",
       "      <td>2016</td>\n",
       "      <td>12</td>\n",
       "      <td>0</td>\n",
       "    </tr>\n",
       "    <tr>\n",
       "      <th>2</th>\n",
       "      <td>8</td>\n",
       "      <td>1</td>\n",
       "      <td>3</td>\n",
       "      <td>1462</td>\n",
       "      <td>200</td>\n",
       "      <td>152</td>\n",
       "      <td>3</td>\n",
       "      <td>43</td>\n",
       "      <td>47</td>\n",
       "      <td>69</td>\n",
       "      <td>...</td>\n",
       "      <td>29</td>\n",
       "      <td>2</td>\n",
       "      <td>2016</td>\n",
       "      <td>1</td>\n",
       "      <td>16</td>\n",
       "      <td>3</td>\n",
       "      <td>5</td>\n",
       "      <td>2016</td>\n",
       "      <td>12</td>\n",
       "      <td>0</td>\n",
       "    </tr>\n",
       "    <tr>\n",
       "      <th>3</th>\n",
       "      <td>6</td>\n",
       "      <td>0</td>\n",
       "      <td>4</td>\n",
       "      <td>1462</td>\n",
       "      <td>200</td>\n",
       "      <td>152</td>\n",
       "      <td>3</td>\n",
       "      <td>43</td>\n",
       "      <td>47</td>\n",
       "      <td>69</td>\n",
       "      <td>...</td>\n",
       "      <td>29</td>\n",
       "      <td>2</td>\n",
       "      <td>2016</td>\n",
       "      <td>1</td>\n",
       "      <td>16</td>\n",
       "      <td>3</td>\n",
       "      <td>5</td>\n",
       "      <td>2016</td>\n",
       "      <td>12</td>\n",
       "      <td>0</td>\n",
       "    </tr>\n",
       "    <tr>\n",
       "      <th>4</th>\n",
       "      <td>7</td>\n",
       "      <td>1</td>\n",
       "      <td>0</td>\n",
       "      <td>1462</td>\n",
       "      <td>120</td>\n",
       "      <td>58</td>\n",
       "      <td>3</td>\n",
       "      <td>62</td>\n",
       "      <td>30</td>\n",
       "      <td>112</td>\n",
       "      <td>...</td>\n",
       "      <td>29</td>\n",
       "      <td>2</td>\n",
       "      <td>2016</td>\n",
       "      <td>4</td>\n",
       "      <td>40</td>\n",
       "      <td>3</td>\n",
       "      <td>6</td>\n",
       "      <td>2016</td>\n",
       "      <td>10</td>\n",
       "      <td>0</td>\n",
       "    </tr>\n",
       "  </tbody>\n",
       "</table>\n",
       "<p>5 rows × 28 columns</p>\n",
       "</div>"
      ],
      "text/plain": [
       "   incident_state  active  sys_mod_count  caller_id  opened_by  \\\n",
       "0               7       1              0       1462        200   \n",
       "1               8       1              2       1462        200   \n",
       "2               8       1              3       1462        200   \n",
       "3               6       0              4       1462        200   \n",
       "4               7       1              0       1462        120   \n",
       "\n",
       "   sys_created_by  contact_type  location  category  subcategory  ...  \\\n",
       "0             152             3        43        47           69  ...   \n",
       "1             152             3        43        47           69  ...   \n",
       "2             152             3        43        47           69  ...   \n",
       "3             152             3        43        47           69  ...   \n",
       "4              58             3        62        30          112  ...   \n",
       "\n",
       "   opened_at_day  opened_at_month  opened_at_year  opened_at_hr  \\\n",
       "0             29                2            2016             1   \n",
       "1             29                2            2016             1   \n",
       "2             29                2            2016             1   \n",
       "3             29                2            2016             1   \n",
       "4             29                2            2016             4   \n",
       "\n",
       "   opened_at_minute  closed_at_day  closed_at_month  closed_at_year  \\\n",
       "0                16              3                5            2016   \n",
       "1                16              3                5            2016   \n",
       "2                16              3                5            2016   \n",
       "3                16              3                5            2016   \n",
       "4                40              3                6            2016   \n",
       "\n",
       "   closed_at_hr  closed_at_minute  \n",
       "0            12                 0  \n",
       "1            12                 0  \n",
       "2            12                 0  \n",
       "3            12                 0  \n",
       "4            10                 0  \n",
       "\n",
       "[5 rows x 28 columns]"
      ]
     },
     "execution_count": 172,
     "metadata": {},
     "output_type": "execute_result"
    }
   ],
   "source": [
    "data_cleaned.head()"
   ]
  },
  {
   "cell_type": "code",
   "execution_count": 173,
   "metadata": {},
   "outputs": [
    {
     "data": {
      "text/plain": [
       "Index(['incident_state', 'active', 'sys_mod_count', 'caller_id', 'opened_by',\n",
       "       'sys_created_by', 'contact_type', 'location', 'category', 'subcategory',\n",
       "       'u_symptom', 'impact', 'urgency', 'priority', 'knowledge',\n",
       "       'u_priority_confirmation', 'notify', 'resolved_by', 'opened_at_day',\n",
       "       'opened_at_month', 'opened_at_year', 'opened_at_hr', 'opened_at_minute',\n",
       "       'closed_at_day', 'closed_at_month', 'closed_at_year', 'closed_at_hr',\n",
       "       'closed_at_minute'],\n",
       "      dtype='object')"
      ]
     },
     "execution_count": 173,
     "metadata": {},
     "output_type": "execute_result"
    }
   ],
   "source": [
    "data_cleaned.columns"
   ]
  },
  {
   "cell_type": "markdown",
   "metadata": {},
   "source": [
    "### spliting the data into x ad y variable"
   ]
  },
  {
   "cell_type": "code",
   "execution_count": 174,
   "metadata": {},
   "outputs": [],
   "source": [
    "X=data_cleaned.drop(\"impact\",axis=1)"
   ]
  },
  {
   "cell_type": "code",
   "execution_count": 175,
   "metadata": {},
   "outputs": [],
   "source": [
    "Y = data_cleaned['impact']"
   ]
  },
  {
   "cell_type": "code",
   "execution_count": 176,
   "metadata": {},
   "outputs": [
    {
     "data": {
      "text/plain": [
       "0    1\n",
       "1    1\n",
       "2    1\n",
       "3    1\n",
       "4    1\n",
       "Name: impact, dtype: int32"
      ]
     },
     "execution_count": 176,
     "metadata": {},
     "output_type": "execute_result"
    }
   ],
   "source": [
    "Y.head()"
   ]
  },
  {
   "cell_type": "markdown",
   "metadata": {},
   "source": [
    "## Spliting data into Train,Test Validation set"
   ]
  },
  {
   "cell_type": "code",
   "execution_count": 177,
   "metadata": {},
   "outputs": [
    {
     "name": "stdout",
     "output_type": "stream",
     "text": [
      "(85027, 27)\n",
      "(85027,)\n",
      "(39679, 27)\n",
      "(39679,)\n",
      "(17006, 27)\n",
      "(17006,)\n"
     ]
    },
    {
     "data": {
      "text/plain": [
       "(None, None)"
      ]
     },
     "execution_count": 177,
     "metadata": {},
     "output_type": "execute_result"
    }
   ],
   "source": [
    "from sklearn.model_selection import train_test_split\n",
    "X = data_cleaned.drop(columns = ['impact']).copy()\n",
    "y = data_cleaned['impact']\n",
    "\n",
    "# In the first step we will split the data in training and remaining dataset\n",
    "X_train, X_rem, y_train, y_rem = train_test_split(X,y, train_size=0.6)\n",
    "\n",
    "# Now since we want the valid and test size to be equal (10% each of overall data). \n",
    "# we have to define valid_size=0.5 (that is 50% of remaining data)\n",
    "test_size = 0.3\n",
    "X_valid, X_test, y_valid, y_test = train_test_split(X_rem,y_rem, test_size=0.3)\n",
    "\n",
    "print(X_train.shape), print(y_train.shape)\n",
    "print(X_valid.shape), print(y_valid.shape)\n",
    "print(X_test.shape), print(y_test.shape)"
   ]
  },
  {
   "cell_type": "code",
   "execution_count": 178,
   "metadata": {},
   "outputs": [],
   "source": [
    "#X_train, X_test, y_train, y_test = train_test_split(X, Y, test_size=0.3,random_state=10)\n",
    "X_valid,X_test,y_valid,y_test = train_test_split(X_rem,y_rem, test_size=0.15)"
   ]
  },
  {
   "cell_type": "markdown",
   "metadata": {},
   "source": [
    "## Balancing of data\n",
    "using smote to balance tha data"
   ]
  },
  {
   "cell_type": "code",
   "execution_count": 179,
   "metadata": {},
   "outputs": [],
   "source": [
    "#pip install imblearn"
   ]
  },
  {
   "cell_type": "code",
   "execution_count": 180,
   "metadata": {},
   "outputs": [],
   "source": [
    "from imblearn.over_sampling import SMOTE\n",
    "sm = SMOTE(random_state=42)\n",
    "X_train_smote, y_train_smote = sm.fit_resample(X_train.astype('float'), y_train)"
   ]
  },
  {
   "cell_type": "code",
   "execution_count": 181,
   "metadata": {},
   "outputs": [
    {
     "name": "stdout",
     "output_type": "stream",
     "text": [
      "Before SMOTE : Counter({1: 80652, 2: 2277, 0: 2098})\n",
      "After SMOTE : Counter({1: 80652, 0: 80652, 2: 80652})\n"
     ]
    }
   ],
   "source": [
    "from collections import Counter\n",
    "print(\"Before SMOTE :\",Counter(y_train))\n",
    "print(\"After SMOTE :\",Counter(y_train_smote))"
   ]
  },
  {
   "cell_type": "code",
   "execution_count": 182,
   "metadata": {},
   "outputs": [
    {
     "data": {
      "text/plain": [
       "<AxesSubplot:xlabel='impact'>"
      ]
     },
     "execution_count": 182,
     "metadata": {},
     "output_type": "execute_result"
    },
    {
     "data": {
      "image/png": "[encoded data removed]",
      "text/plain": [
       "<Figure size 432x288 with 1 Axes>"
      ]
     },
     "metadata": {
      "needs_background": "light"
     },
     "output_type": "display_data"
    }
   ],
   "source": [
    "Df=pd.DataFrame(y_train_smote)\n",
    "Df.value_counts().plot.bar()"
   ]
  },
  {
   "cell_type": "markdown",
   "metadata": {},
   "source": [
    "# Feature Selection\n"
   ]
  },
  {
   "cell_type": "markdown",
   "metadata": {},
   "source": [
    "### Feature Selection using ExtraTreesClassifier"
   ]
  },
  {
   "cell_type": "code",
   "execution_count": 183,
   "metadata": {},
   "outputs": [
    {
     "data": {
      "text/plain": [
       "ExtraTreesClassifier()"
      ]
     },
     "execution_count": 183,
     "metadata": {},
     "output_type": "execute_result"
    }
   ],
   "source": [
    "from sklearn.ensemble import ExtraTreesClassifier\n",
    "import matplotlib.pyplot as plt\n",
    "model = ExtraTreesClassifier()\n",
    "model.fit(X_train_smote,y_train_smote)"
   ]
  },
  {
   "cell_type": "code",
   "execution_count": 184,
   "metadata": {},
   "outputs": [
    {
     "data": {
      "text/plain": [
       "array([8.36235470e-03, 1.28695159e-02, 2.24043562e-03, 4.83636775e-03,\n",
       "       2.71737059e-02, 1.57802794e-02, 1.40214036e-04, 5.39577865e-03,\n",
       "       7.86523246e-03, 5.17033478e-03, 4.23053860e-03, 3.07015663e-01,\n",
       "       5.08469427e-01, 1.86815356e-02, 1.41225303e-02, 7.94470428e-06,\n",
       "       8.66468319e-03, 4.52051565e-03, 6.00058874e-03, 2.19404946e-04,\n",
       "       1.26961007e-02, 4.30873165e-03, 4.81126688e-03, 3.81677965e-03,\n",
       "       3.72942349e-04, 5.92913413e-03, 6.29799348e-03])"
      ]
     },
     "execution_count": 184,
     "metadata": {},
     "output_type": "execute_result"
    }
   ],
   "source": [
    "model.feature_importances_"
   ]
  },
  {
   "cell_type": "code",
   "execution_count": 185,
   "metadata": {},
   "outputs": [
    {
     "data": {
      "image/png": "[encoded data removed]",
      "text/plain": [
       "<Figure size 432x288 with 1 Axes>"
      ]
     },
     "metadata": {
      "needs_background": "light"
     },
     "output_type": "display_data"
    }
   ],
   "source": [
    "ranked_features=pd.Series(model.feature_importances_,index=X_train.columns)\n",
    "ranked_features.nlargest(10).plot(kind='barh')\n",
    "plt.show()"
   ]
  },
  {
   "cell_type": "markdown",
   "metadata": {},
   "source": [
    "### Feature Selection using Mutual information"
   ]
  },
  {
   "cell_type": "code",
   "execution_count": 186,
   "metadata": {
    "scrolled": true
   },
   "outputs": [
    {
     "data": {
      "text/plain": [
       "array([0.26361408, 0.11316082, 0.49199805, 0.66106026, 0.5062981 ,\n",
       "       0.34105363, 0.0227395 , 0.15649118, 0.23511658, 0.25789444,\n",
       "       0.22021689, 0.75163014, 1.08723776, 0.05660882, 0.09938468,\n",
       "       0.        , 0.3817386 , 0.13105217, 0.09251979, 0.01574487,\n",
       "       0.16973104, 0.15096459, 0.11239276, 0.10738595, 0.01354097,\n",
       "       0.13975762, 0.09778835])"
      ]
     },
     "execution_count": 186,
     "metadata": {},
     "output_type": "execute_result"
    }
   ],
   "source": [
    "from sklearn.feature_selection import mutual_info_classif\n",
    "# determine the mutual information\n",
    "mutual_info = mutual_info_classif(X_train_smote, y_train_smote)\n",
    "mutual_info"
   ]
  },
  {
   "cell_type": "code",
   "execution_count": 187,
   "metadata": {
    "scrolled": true
   },
   "outputs": [
    {
     "data": {
      "text/plain": [
       "priority                   1.087238\n",
       "urgency                    0.751630\n",
       "caller_id                  0.661060\n",
       "opened_by                  0.506298\n",
       "sys_mod_count              0.491998\n",
       "resolved_by                0.381739\n",
       "sys_created_by             0.341054\n",
       "incident_state             0.263614\n",
       "subcategory                0.257894\n",
       "category                   0.235117\n",
       "u_symptom                  0.220217\n",
       "opened_at_hr               0.169731\n",
       "location                   0.156491\n",
       "opened_at_minute           0.150965\n",
       "closed_at_hr               0.139758\n",
       "opened_at_day              0.131052\n",
       "active                     0.113161\n",
       "closed_at_day              0.112393\n",
       "closed_at_month            0.107386\n",
       "u_priority_confirmation    0.099385\n",
       "closed_at_minute           0.097788\n",
       "opened_at_month            0.092520\n",
       "knowledge                  0.056609\n",
       "contact_type               0.022740\n",
       "opened_at_year             0.015745\n",
       "closed_at_year             0.013541\n",
       "notify                     0.000000\n",
       "dtype: float64"
      ]
     },
     "execution_count": 187,
     "metadata": {},
     "output_type": "execute_result"
    }
   ],
   "source": [
    "mutual_info = pd.Series(mutual_info)\n",
    "mutual_info.index = X_train.columns\n",
    "mutual_info.sort_values(ascending=False)"
   ]
  },
  {
   "cell_type": "code",
   "execution_count": 188,
   "metadata": {},
   "outputs": [
    {
     "data": {
      "text/plain": [
       "<AxesSubplot:>"
      ]
     },
     "execution_count": 188,
     "metadata": {},
     "output_type": "execute_result"
    },
    {
     "data": {
      "image/png": "[encoded data removed]",
      "text/plain": [
       "<Figure size 1080x288 with 1 Axes>"
      ]
     },
     "metadata": {
      "needs_background": "light"
     },
     "output_type": "display_data"
    }
   ],
   "source": [
    "#let's plot the ordered mutual_info values per feature\n",
    "mutual_info.sort_values(ascending=False).plot.bar(figsize=(15, 4))"
   ]
  },
  {
   "cell_type": "markdown",
   "metadata": {},
   "source": [
    "### Feature Importance using Decision Tree Classifier"
   ]
  },
  {
   "cell_type": "code",
   "execution_count": 189,
   "metadata": {},
   "outputs": [
    {
     "data": {
      "text/plain": [
       "DecisionTreeClassifier()"
      ]
     },
     "execution_count": 189,
     "metadata": {},
     "output_type": "execute_result"
    }
   ],
   "source": [
    "from sklearn.tree import DecisionTreeClassifier\n",
    "\n",
    "model= DecisionTreeClassifier()\n",
    "model.fit(X_train_smote,y_train_smote)"
   ]
  },
  {
   "cell_type": "code",
   "execution_count": 190,
   "metadata": {},
   "outputs": [
    {
     "data": {
      "text/plain": [
       "priority                   0.983177\n",
       "urgency                    0.015739\n",
       "opened_at_minute           0.000224\n",
       "category                   0.000188\n",
       "opened_by                  0.000133\n",
       "closed_at_minute           0.000115\n",
       "subcategory                0.000086\n",
       "u_symptom                  0.000076\n",
       "caller_id                  0.000073\n",
       "sys_mod_count              0.000049\n",
       "resolved_by                0.000035\n",
       "opened_at_hr               0.000027\n",
       "opened_at_day              0.000021\n",
       "closed_at_hr               0.000018\n",
       "incident_state             0.000016\n",
       "sys_created_by             0.000007\n",
       "opened_at_month            0.000007\n",
       "location                   0.000006\n",
       "active                     0.000003\n",
       "u_priority_confirmation    0.000000\n",
       "notify                     0.000000\n",
       "opened_at_year             0.000000\n",
       "contact_type               0.000000\n",
       "closed_at_day              0.000000\n",
       "closed_at_month            0.000000\n",
       "closed_at_year             0.000000\n",
       "knowledge                  0.000000\n",
       "dtype: float64"
      ]
     },
     "execution_count": 190,
     "metadata": {},
     "output_type": "execute_result"
    }
   ],
   "source": [
    "feature = pd.Series(model.feature_importances_)\n",
    "feature.index = X_train.columns\n",
    "feature.sort_values(ascending=False)"
   ]
  },
  {
   "cell_type": "code",
   "execution_count": 191,
   "metadata": {},
   "outputs": [
    {
     "data": {
      "text/plain": [
       "<AxesSubplot:>"
      ]
     },
     "execution_count": 191,
     "metadata": {},
     "output_type": "execute_result"
    },
    {
     "data": {
      "image/png": "[encoded data removed]",
      "text/plain": [
       "<Figure size 1080x288 with 1 Axes>"
      ]
     },
     "metadata": {
      "needs_background": "light"
     },
     "output_type": "display_data"
    }
   ],
   "source": [
    "feature.sort_values(ascending=False).plot.bar(figsize=(15, 4))"
   ]
  },
  {
   "cell_type": "markdown",
   "metadata": {},
   "source": [
    "### Feature Selection using Chi Square"
   ]
  },
  {
   "cell_type": "code",
   "execution_count": 192,
   "metadata": {},
   "outputs": [],
   "source": [
    "from sklearn.feature_selection import SelectKBest\n",
    "from sklearn.feature_selection import chi2"
   ]
  },
  {
   "cell_type": "code",
   "execution_count": 193,
   "metadata": {},
   "outputs": [
    {
     "data": {
      "text/plain": [
       "SelectKBest(k=16, score_func=<function chi2 at 0x000002004C41CDC0>)"
      ]
     },
     "execution_count": 193,
     "metadata": {},
     "output_type": "execute_result"
    }
   ],
   "source": [
    "ordered_rank_feature=SelectKBest(score_func=chi2,k=16)\n",
    "ordered_feature=ordered_rank_feature.fit(X_train_smote,y_train_smote)\n",
    "ordered_feature"
   ]
  },
  {
   "cell_type": "code",
   "execution_count": 194,
   "metadata": {},
   "outputs": [
    {
     "data": {
      "text/html": [
       "<div>\n",
       "<style scoped>\n",
       "    .dataframe tbody tr th:only-of-type {\n",
       "        vertical-align: middle;\n",
       "    }\n",
       "\n",
       "    .dataframe tbody tr th {\n",
       "        vertical-align: top;\n",
       "    }\n",
       "\n",
       "    .dataframe thead th {\n",
       "        text-align: right;\n",
       "    }\n",
       "</style>\n",
       "<table border=\"1\" class=\"dataframe\">\n",
       "  <thead>\n",
       "    <tr style=\"text-align: right;\">\n",
       "      <th></th>\n",
       "      <th>scores</th>\n",
       "      <th>0</th>\n",
       "    </tr>\n",
       "  </thead>\n",
       "  <tbody>\n",
       "    <tr>\n",
       "      <th>4</th>\n",
       "      <td>1.345139e+06</td>\n",
       "      <td>opened_by</td>\n",
       "    </tr>\n",
       "    <tr>\n",
       "      <th>3</th>\n",
       "      <td>2.548125e+05</td>\n",
       "      <td>caller_id</td>\n",
       "    </tr>\n",
       "    <tr>\n",
       "      <th>5</th>\n",
       "      <td>2.321312e+05</td>\n",
       "      <td>sys_created_by</td>\n",
       "    </tr>\n",
       "    <tr>\n",
       "      <th>12</th>\n",
       "      <td>1.618293e+05</td>\n",
       "      <td>priority</td>\n",
       "    </tr>\n",
       "    <tr>\n",
       "      <th>11</th>\n",
       "      <td>8.935417e+04</td>\n",
       "      <td>urgency</td>\n",
       "    </tr>\n",
       "    <tr>\n",
       "      <th>16</th>\n",
       "      <td>8.107327e+04</td>\n",
       "      <td>resolved_by</td>\n",
       "    </tr>\n",
       "    <tr>\n",
       "      <th>26</th>\n",
       "      <td>6.486423e+04</td>\n",
       "      <td>closed_at_minute</td>\n",
       "    </tr>\n",
       "    <tr>\n",
       "      <th>9</th>\n",
       "      <td>2.888739e+04</td>\n",
       "      <td>subcategory</td>\n",
       "    </tr>\n",
       "    <tr>\n",
       "      <th>17</th>\n",
       "      <td>1.986096e+04</td>\n",
       "      <td>opened_at_day</td>\n",
       "    </tr>\n",
       "    <tr>\n",
       "      <th>10</th>\n",
       "      <td>1.653421e+04</td>\n",
       "      <td>u_symptom</td>\n",
       "    </tr>\n",
       "    <tr>\n",
       "      <th>2</th>\n",
       "      <td>1.410935e+04</td>\n",
       "      <td>sys_mod_count</td>\n",
       "    </tr>\n",
       "    <tr>\n",
       "      <th>13</th>\n",
       "      <td>1.034591e+04</td>\n",
       "      <td>knowledge</td>\n",
       "    </tr>\n",
       "    <tr>\n",
       "      <th>7</th>\n",
       "      <td>7.742325e+03</td>\n",
       "      <td>location</td>\n",
       "    </tr>\n",
       "    <tr>\n",
       "      <th>20</th>\n",
       "      <td>7.590449e+03</td>\n",
       "      <td>opened_at_hr</td>\n",
       "    </tr>\n",
       "    <tr>\n",
       "      <th>22</th>\n",
       "      <td>7.526508e+03</td>\n",
       "      <td>closed_at_day</td>\n",
       "    </tr>\n",
       "  </tbody>\n",
       "</table>\n",
       "</div>"
      ],
      "text/plain": [
       "          scores                 0\n",
       "4   1.345139e+06         opened_by\n",
       "3   2.548125e+05         caller_id\n",
       "5   2.321312e+05    sys_created_by\n",
       "12  1.618293e+05          priority\n",
       "11  8.935417e+04           urgency\n",
       "16  8.107327e+04       resolved_by\n",
       "26  6.486423e+04  closed_at_minute\n",
       "9   2.888739e+04       subcategory\n",
       "17  1.986096e+04     opened_at_day\n",
       "10  1.653421e+04         u_symptom\n",
       "2   1.410935e+04     sys_mod_count\n",
       "13  1.034591e+04         knowledge\n",
       "7   7.742325e+03          location\n",
       "20  7.590449e+03      opened_at_hr\n",
       "22  7.526508e+03     closed_at_day"
      ]
     },
     "execution_count": 194,
     "metadata": {},
     "output_type": "execute_result"
    }
   ],
   "source": [
    "df_scores=pd.DataFrame(ordered_feature.scores_,columns=['scores'])\n",
    "df_columns=pd.DataFrame(X_train.columns)\n",
    "features_rank=pd.concat([df_scores,df_columns],axis=1)\n",
    "features_rank.nlargest(15,'scores')\n",
    "\n",
    "#These are top 10 features useful for predicting impact"
   ]
  },
  {
   "cell_type": "code",
   "execution_count": 195,
   "metadata": {},
   "outputs": [
    {
     "data": {
      "text/plain": [
       "priority                   0.983177\n",
       "urgency                    0.015739\n",
       "opened_at_minute           0.000224\n",
       "category                   0.000188\n",
       "opened_by                  0.000133\n",
       "closed_at_minute           0.000115\n",
       "subcategory                0.000086\n",
       "u_symptom                  0.000076\n",
       "caller_id                  0.000073\n",
       "sys_mod_count              0.000049\n",
       "resolved_by                0.000035\n",
       "opened_at_hr               0.000027\n",
       "opened_at_day              0.000021\n",
       "closed_at_hr               0.000018\n",
       "incident_state             0.000016\n",
       "sys_created_by             0.000007\n",
       "opened_at_month            0.000007\n",
       "location                   0.000006\n",
       "active                     0.000003\n",
       "u_priority_confirmation    0.000000\n",
       "notify                     0.000000\n",
       "opened_at_year             0.000000\n",
       "contact_type               0.000000\n",
       "closed_at_day              0.000000\n",
       "closed_at_month            0.000000\n",
       "closed_at_year             0.000000\n",
       "knowledge                  0.000000\n",
       "dtype: float64"
      ]
     },
     "execution_count": 195,
     "metadata": {},
     "output_type": "execute_result"
    }
   ],
   "source": [
    "feature = pd.Series(model.feature_importances_)\n",
    "feature.index = X_train.columns\n",
    "feature.sort_values(ascending=False)"
   ]
  },
  {
   "cell_type": "code",
   "execution_count": 196,
   "metadata": {},
   "outputs": [
    {
     "data": {
      "text/plain": [
       "<AxesSubplot:>"
      ]
     },
     "execution_count": 196,
     "metadata": {},
     "output_type": "execute_result"
    },
    {
     "data": {
      "image/png": "[encoded data removed]",
      "text/plain": [
       "<Figure size 1080x288 with 1 Axes>"
      ]
     },
     "metadata": {
      "needs_background": "light"
     },
     "output_type": "display_data"
    }
   ],
   "source": [
    "feature.sort_values(ascending=False).plot.bar(figsize=(15, 4))"
   ]
  },
  {
   "cell_type": "markdown",
   "metadata": {},
   "source": [
    "# Using the important features which we have obtained after feature selection\n",
    "number,opened_by,sys_created_by,sys_created_by,priority,urgency,resolved_by,closed_at_minute,assigned_to,caller_id\n",
    "\n"
   ]
  },
  {
   "cell_type": "code",
   "execution_count": 198,
   "metadata": {},
   "outputs": [],
   "source": [
    "X_test_new= X_test[['opened_by','category','caller_id','subcategory','u_symptom','incident_state','resolved_by','opened_at_day']]\n",
    "X_train_smote_new= X_train_smote[['opened_by','category','caller_id','subcategory','u_symptom','incident_state','resolved_by','opened_at_day']]"
   ]
  },
  {
   "cell_type": "code",
   "execution_count": 199,
   "metadata": {},
   "outputs": [
    {
     "data": {
      "text/plain": [
       "(241956, 8)"
      ]
     },
     "execution_count": 199,
     "metadata": {},
     "output_type": "execute_result"
    }
   ],
   "source": [
    "X_train_smote_new.shape"
   ]
  },
  {
   "cell_type": "code",
   "execution_count": 200,
   "metadata": {},
   "outputs": [
    {
     "data": {
      "text/plain": [
       "(8503, 8)"
      ]
     },
     "execution_count": 200,
     "metadata": {},
     "output_type": "execute_result"
    }
   ],
   "source": [
    "X_test_new.shape"
   ]
  },
  {
   "cell_type": "markdown",
   "metadata": {},
   "source": [
    "### RandomForestClassifier"
   ]
  },
  {
   "cell_type": "code",
   "execution_count": 201,
   "metadata": {},
   "outputs": [],
   "source": [
    "from sklearn.ensemble import RandomForestClassifier\n",
    "rf_clf = RandomForestClassifier(max_depth=27)\n",
    "model_rf=rf_clf.fit(X_train_smote_new,y_train_smote)"
   ]
  },
  {
   "cell_type": "code",
   "execution_count": 202,
   "metadata": {},
   "outputs": [],
   "source": [
    "# Predicting the model\n",
    "y_predict_rf = model_rf.predict(X_test_new)"
   ]
  },
  {
   "cell_type": "code",
   "execution_count": 203,
   "metadata": {},
   "outputs": [],
   "source": [
    "df=pd.DataFrame(y_predict_rf)"
   ]
  },
  {
   "cell_type": "code",
   "execution_count": 204,
   "metadata": {
    "scrolled": true
   },
   "outputs": [
    {
     "data": {
      "text/plain": [
       "<AxesSubplot:xlabel='0'>"
      ]
     },
     "execution_count": 204,
     "metadata": {},
     "output_type": "execute_result"
    },
    {
     "data": {
      "image/png": "[encoded data removed]",
      "text/plain": [
       "<Figure size 432x288 with 1 Axes>"
      ]
     },
     "metadata": {
      "needs_background": "light"
     },
     "output_type": "display_data"
    }
   ],
   "source": [
    "df.value_counts().plot.bar()"
   ]
  },
  {
   "cell_type": "code",
   "execution_count": 205,
   "metadata": {},
   "outputs": [
    {
     "data": {
      "text/plain": [
       "1    8004\n",
       "2     282\n",
       "0     217\n",
       "dtype: int64"
      ]
     },
     "execution_count": 205,
     "metadata": {},
     "output_type": "execute_result"
    }
   ],
   "source": [
    "df.value_counts()"
   ]
  },
  {
   "cell_type": "code",
   "execution_count": 206,
   "metadata": {},
   "outputs": [
    {
     "name": "stdout",
     "output_type": "stream",
     "text": [
      "0.9773021286604727\n",
      "              precision    recall  f1-score   support\n",
      "\n",
      "           0       0.82      0.80      0.81       224\n",
      "           1       0.99      0.99      0.99      8035\n",
      "           2       0.72      0.84      0.78       244\n",
      "\n",
      "    accuracy                           0.98      8503\n",
      "   macro avg       0.85      0.87      0.86      8503\n",
      "weighted avg       0.98      0.98      0.98      8503\n",
      "\n"
     ]
    }
   ],
   "source": [
    "# Finding accuracy, precision, recall and confusion matrix\n",
    "from sklearn.metrics import accuracy_score, classification_report, confusion_matrix\n",
    "print(accuracy_score(y_test,y_predict_rf))\n",
    "print(classification_report(y_test,y_predict_rf))"
   ]
  },
  {
   "cell_type": "code",
   "execution_count": 207,
   "metadata": {},
   "outputs": [
    {
     "name": "stdout",
     "output_type": "stream",
     "text": [
      "[[ 179   41    4]\n",
      " [  34 7927   74]\n",
      " [   4   36  204]]\n"
     ]
    }
   ],
   "source": [
    "cf_matrix=confusion_matrix(y_test,y_predict_rf)\n",
    "print(cf_matrix)"
   ]
  },
  {
   "cell_type": "code",
   "execution_count": 208,
   "metadata": {},
   "outputs": [
    {
     "data": {
      "text/plain": [
       "<AxesSubplot:>"
      ]
     },
     "execution_count": 208,
     "metadata": {},
     "output_type": "execute_result"
    },
    {
     "data": {
      "image/png": "[encoded data removed]",
      "text/plain": [
       "<Figure size 432x288 with 2 Axes>"
      ]
     },
     "metadata": {
      "needs_background": "light"
     },
     "output_type": "display_data"
    }
   ],
   "source": [
    "sns.heatmap(cf_matrix/np.sum(cf_matrix),annot=True, \n",
    "            fmt='.2%', cmap='RdBu')"
   ]
  },
  {
   "cell_type": "code",
   "execution_count": 209,
   "metadata": {},
   "outputs": [],
   "source": [
    "accuracy_rf = (171+7965+184)/(8503)*100"
   ]
  },
  {
   "cell_type": "code",
   "execution_count": 210,
   "metadata": {},
   "outputs": [
    {
     "data": {
      "text/plain": [
       "97.84781841702929"
      ]
     },
     "execution_count": 210,
     "metadata": {},
     "output_type": "execute_result"
    }
   ],
   "source": [
    "accuracy_rf"
   ]
  },
  {
   "cell_type": "code",
   "execution_count": 211,
   "metadata": {},
   "outputs": [
    {
     "name": "stdout",
     "output_type": "stream",
     "text": [
      "Accuracy: 1.0\n",
      "[[ 2098     0     0]\n",
      " [    0 80652     0]\n",
      " [    0     0  2277]]\n"
     ]
    }
   ],
   "source": [
    "#Accuracy for training data\n",
    "model_clf= RandomForestClassifier(n_estimators=100)\n",
    "\n",
    "# Train the model using the training sets\n",
    "model_clf.fit(X_train, y_train)\n",
    "\n",
    "# prediction on test set\n",
    "y_pred = model_clf.predict(X_train)\n",
    "\n",
    "# Calculate Model Accuracy,\n",
    "print(\"Accuracy:\", accuracy_score(y_train, y_pred))\n",
    "cf_matrix=confusion_matrix(y_train,y_pred)\n",
    "print(cf_matrix)"
   ]
  },
  {
   "cell_type": "markdown",
   "metadata": {},
   "source": [
    "### DecisionTreeClassifier"
   ]
  },
  {
   "cell_type": "code",
   "execution_count": 212,
   "metadata": {},
   "outputs": [],
   "source": [
    "# Training the model\n",
    "from sklearn.tree import DecisionTreeClassifier\n",
    "dtree_clf=DecisionTreeClassifier()\n",
    "model_dtree=dtree_clf.fit(X_train_smote_new,y_train_smote)\n"
   ]
  },
  {
   "cell_type": "code",
   "execution_count": 213,
   "metadata": {},
   "outputs": [],
   "source": [
    "# Predicting the model\n",
    "y_predict_dtree = model_dtree.predict(X_test_new)"
   ]
  },
  {
   "cell_type": "code",
   "execution_count": 214,
   "metadata": {},
   "outputs": [
    {
     "data": {
      "text/plain": [
       "array([1, 1, 1, ..., 1, 1, 1])"
      ]
     },
     "execution_count": 214,
     "metadata": {},
     "output_type": "execute_result"
    }
   ],
   "source": [
    "y_predict_dtree"
   ]
  },
  {
   "cell_type": "code",
   "execution_count": 215,
   "metadata": {},
   "outputs": [],
   "source": [
    "df1=pd.DataFrame(y_predict_dtree)"
   ]
  },
  {
   "cell_type": "code",
   "execution_count": 216,
   "metadata": {},
   "outputs": [
    {
     "data": {
      "text/plain": [
       "<AxesSubplot:xlabel='0'>"
      ]
     },
     "execution_count": 216,
     "metadata": {},
     "output_type": "execute_result"
    },
    {
     "data": {
      "image/png": "[encoded data removed]",
      "text/plain": [
       "<Figure size 432x288 with 1 Axes>"
      ]
     },
     "metadata": {
      "needs_background": "light"
     },
     "output_type": "display_data"
    }
   ],
   "source": [
    "df1.value_counts().plot.bar()"
   ]
  },
  {
   "cell_type": "code",
   "execution_count": 217,
   "metadata": {},
   "outputs": [
    {
     "data": {
      "text/plain": [
       "1    7916\n",
       "2     304\n",
       "0     283\n",
       "dtype: int64"
      ]
     },
     "execution_count": 217,
     "metadata": {},
     "output_type": "execute_result"
    }
   ],
   "source": [
    "df1.value_counts()"
   ]
  },
  {
   "cell_type": "code",
   "execution_count": 218,
   "metadata": {},
   "outputs": [
    {
     "name": "stdout",
     "output_type": "stream",
     "text": [
      "0.9668352346230742\n",
      "              precision    recall  f1-score   support\n",
      "\n",
      "           0       0.67      0.85      0.75       224\n",
      "           1       0.99      0.98      0.98      8035\n",
      "           2       0.63      0.78      0.70       244\n",
      "\n",
      "    accuracy                           0.97      8503\n",
      "   macro avg       0.76      0.87      0.81      8503\n",
      "weighted avg       0.97      0.97      0.97      8503\n",
      "\n"
     ]
    }
   ],
   "source": [
    "# Finding accuracy, precision, recall and confusion matrix\n",
    "print(accuracy_score(y_test,y_predict_dtree))\n",
    "print(classification_report(y_test,y_predict_dtree))"
   ]
  },
  {
   "cell_type": "code",
   "execution_count": 219,
   "metadata": {},
   "outputs": [
    {
     "name": "stdout",
     "output_type": "stream",
     "text": [
      "[[ 190   29    5]\n",
      " [  87 7840  108]\n",
      " [   6   47  191]]\n"
     ]
    }
   ],
   "source": [
    "cfDT_matrix=confusion_matrix(y_test,y_predict_dtree )\n",
    "print(cfDT_matrix)"
   ]
  },
  {
   "cell_type": "code",
   "execution_count": 220,
   "metadata": {},
   "outputs": [
    {
     "data": {
      "text/plain": [
       "<AxesSubplot:>"
      ]
     },
     "execution_count": 220,
     "metadata": {},
     "output_type": "execute_result"
    },
    {
     "data": {
      "image/png": "[encoded data removed]",
      "text/plain": [
       "<Figure size 432x288 with 2 Axes>"
      ]
     },
     "metadata": {
      "needs_background": "light"
     },
     "output_type": "display_data"
    }
   ],
   "source": [
    "sns.heatmap(cfDT_matrix/np.sum(cfDT_matrix), annot=True, \n",
    "            fmt='.2%', cmap='RdBu')"
   ]
  },
  {
   "cell_type": "code",
   "execution_count": 221,
   "metadata": {},
   "outputs": [],
   "source": [
    "accuracy_dtree = (170+7838+168)/(8503)*100"
   ]
  },
  {
   "cell_type": "code",
   "execution_count": 222,
   "metadata": {},
   "outputs": [
    {
     "data": {
      "text/plain": [
       "96.1542984828884"
      ]
     },
     "execution_count": 222,
     "metadata": {},
     "output_type": "execute_result"
    }
   ],
   "source": [
    "accuracy_dtree"
   ]
  },
  {
   "cell_type": "code",
   "execution_count": 223,
   "metadata": {},
   "outputs": [
    {
     "name": "stdout",
     "output_type": "stream",
     "text": [
      "Accuracy: 1.0\n",
      "[[ 2098     0     0]\n",
      " [    0 80652     0]\n",
      " [    0     0  2277]]\n"
     ]
    }
   ],
   "source": [
    "model_dtree=DecisionTreeClassifier()\n",
    "\n",
    "# Train the model using the training sets\n",
    "model_dtree.fit(X_train, y_train)\n",
    "\n",
    "# prediction on test set\n",
    "y_pred =model_dtree.predict(X_train)\n",
    "\n",
    "# Calculate Model Accuracy,\n",
    "print(\"Accuracy:\", accuracy_score(y_train, y_pred))\n",
    "dtree_matrix=confusion_matrix(y_train,y_pred)\n",
    "print(dtree_matrix)"
   ]
  },
  {
   "cell_type": "code",
   "execution_count": null,
   "metadata": {},
   "outputs": [],
   "source": []
  },
  {
   "cell_type": "code",
   "execution_count": null,
   "metadata": {},
   "outputs": [],
   "source": []
  },
  {
   "cell_type": "code",
   "execution_count": null,
   "metadata": {},
   "outputs": [],
   "source": []
  },
  {
   "cell_type": "markdown",
   "metadata": {},
   "source": [
    "### KNN Classification\n",
    "* The k-nearest neighbors (KNN) algorithm is a simple, supervised machine learning algorithm that can be used to solve both classification and regression problems. It's easy to implement and understand, but has a major drawback of becoming significantly slows as the size of that data in use grows."
   ]
  },
  {
   "cell_type": "code",
   "execution_count": 224,
   "metadata": {},
   "outputs": [],
   "source": [
    "# Training the model\n",
    "from sklearn.neighbors import KNeighborsClassifier\n",
    "knn = KNeighborsClassifier(n_neighbors=12,metric='euclidean') # Maximum accuracy for n=10"
   ]
  },
  {
   "cell_type": "code",
   "execution_count": 225,
   "metadata": {},
   "outputs": [],
   "source": [
    "model_knn=knn.fit(X_train_smote_new,y_train_smote)"
   ]
  },
  {
   "cell_type": "code",
   "execution_count": 226,
   "metadata": {},
   "outputs": [],
   "source": [
    "# Predicting the model\n",
    "y_predict_knn = model_knn.predict(X_test_new)"
   ]
  },
  {
   "cell_type": "code",
   "execution_count": 227,
   "metadata": {},
   "outputs": [
    {
     "data": {
      "text/plain": [
       "array([1, 1, 1, ..., 2, 1, 1])"
      ]
     },
     "execution_count": 227,
     "metadata": {},
     "output_type": "execute_result"
    }
   ],
   "source": [
    "y_predict_knn"
   ]
  },
  {
   "cell_type": "code",
   "execution_count": 228,
   "metadata": {},
   "outputs": [],
   "source": [
    "df2=pd.DataFrame(y_predict_knn)"
   ]
  },
  {
   "cell_type": "code",
   "execution_count": 229,
   "metadata": {},
   "outputs": [
    {
     "data": {
      "text/plain": [
       "<AxesSubplot:xlabel='0'>"
      ]
     },
     "execution_count": 229,
     "metadata": {},
     "output_type": "execute_result"
    },
    {
     "data": {
      "image/png": "[encoded data removed]",
      "text/plain": [
       "<Figure size 432x288 with 1 Axes>"
      ]
     },
     "metadata": {
      "needs_background": "light"
     },
     "output_type": "display_data"
    }
   ],
   "source": [
    "df2.value_counts().plot.bar()"
   ]
  },
  {
   "cell_type": "code",
   "execution_count": 230,
   "metadata": {},
   "outputs": [
    {
     "data": {
      "text/plain": [
       "1    7325\n",
       "2     589\n",
       "0     589\n",
       "dtype: int64"
      ]
     },
     "execution_count": 230,
     "metadata": {},
     "output_type": "execute_result"
    }
   ],
   "source": [
    "df2.value_counts()"
   ]
  },
  {
   "cell_type": "code",
   "execution_count": 231,
   "metadata": {},
   "outputs": [
    {
     "name": "stdout",
     "output_type": "stream",
     "text": [
      "0.9141479477831354\n",
      "              precision    recall  f1-score   support\n",
      "\n",
      "           0       0.37      0.98      0.54       224\n",
      "           1       1.00      0.91      0.95      8035\n",
      "           2       0.40      0.96      0.56       244\n",
      "\n",
      "    accuracy                           0.91      8503\n",
      "   macro avg       0.59      0.95      0.68      8503\n",
      "weighted avg       0.97      0.91      0.93      8503\n",
      "\n"
     ]
    }
   ],
   "source": [
    "# Finding accuracy, precision, recall and confusion matrix\n",
    "print(accuracy_score(y_test,y_predict_knn))\n",
    "print(classification_report(y_test,y_predict_knn))\n"
   ]
  },
  {
   "cell_type": "code",
   "execution_count": 232,
   "metadata": {},
   "outputs": [
    {
     "name": "stdout",
     "output_type": "stream",
     "text": [
      "[[ 219    0    5]\n",
      " [ 365 7320  350]\n",
      " [   5    5  234]]\n"
     ]
    }
   ],
   "source": [
    "cfKNN_matrix=confusion_matrix(y_test,y_predict_knn)\n",
    "print(cfKNN_matrix)"
   ]
  },
  {
   "cell_type": "code",
   "execution_count": 233,
   "metadata": {},
   "outputs": [
    {
     "data": {
      "text/plain": [
       "<AxesSubplot:>"
      ]
     },
     "execution_count": 233,
     "metadata": {},
     "output_type": "execute_result"
    },
    {
     "data": {
      "image/png": "[encoded data removed]",
      "text/plain": [
       "<Figure size 432x288 with 2 Axes>"
      ]
     },
     "metadata": {
      "needs_background": "light"
     },
     "output_type": "display_data"
    }
   ],
   "source": [
    "sns.heatmap(cfKNN_matrix/np.sum(cfKNN_matrix), annot=True, \n",
    "            fmt='.2%', cmap='RdBu')"
   ]
  },
  {
   "cell_type": "code",
   "execution_count": 234,
   "metadata": {},
   "outputs": [],
   "source": [
    "accuracy_knn =(218+7395+209)/(8503)*100"
   ]
  },
  {
   "cell_type": "code",
   "execution_count": 235,
   "metadata": {},
   "outputs": [
    {
     "data": {
      "text/plain": [
       "91.99106197812537"
      ]
     },
     "execution_count": 235,
     "metadata": {},
     "output_type": "execute_result"
    }
   ],
   "source": [
    "accuracy_knn"
   ]
  },
  {
   "cell_type": "markdown",
   "metadata": {},
   "source": [
    "### xgboost Classifier\n",
    "* XGBoost is a decision-tree-based ensemble Machine Learning algorithm that uses a gradient boosting framework"
   ]
  },
  {
   "cell_type": "code",
   "execution_count": 236,
   "metadata": {},
   "outputs": [],
   "source": [
    "# Training the model\n",
    "import xgboost as xgb\n",
    "from xgboost import XGBClassifier\n",
    "xgb = XGBClassifier()"
   ]
  },
  {
   "cell_type": "code",
   "execution_count": 237,
   "metadata": {},
   "outputs": [
    {
     "name": "stderr",
     "output_type": "stream",
     "text": [
      "C:\\Users\\91830\\anaconda3\\lib\\site-packages\\xgboost\\sklearn.py:888: UserWarning: The use of label encoder in XGBClassifier is deprecated and will be removed in a future release. To remove this warning, do the following: 1) Pass option use_label_encoder=False when constructing XGBClassifier object; and 2) Encode your labels (y) as integers starting with 0, i.e. 0, 1, 2, ..., [num_class - 1].\n",
      "  warnings.warn(label_encoder_deprecation_msg, UserWarning)\n"
     ]
    },
    {
     "name": "stdout",
     "output_type": "stream",
     "text": [
      "[23:01:00] WARNING: C:/Users/Administrator/workspace/xgboost-win64_release_1.3.0/src/learner.cc:1061: Starting in XGBoost 1.3.0, the default evaluation metric used with the objective 'multi:softprob' was changed from 'merror' to 'mlogloss'. Explicitly set eval_metric if you'd like to restore the old behavior.\n"
     ]
    }
   ],
   "source": [
    "model_xgb=xgb.fit(X_train_smote_new,y_train_smote)"
   ]
  },
  {
   "cell_type": "code",
   "execution_count": 238,
   "metadata": {},
   "outputs": [],
   "source": [
    "# Predicting the model\n",
    "y_predict_xgb = model_xgb.predict(X_test_new)"
   ]
  },
  {
   "cell_type": "code",
   "execution_count": 239,
   "metadata": {},
   "outputs": [
    {
     "data": {
      "text/plain": [
       "array([1, 1, 1, ..., 1, 1, 1])"
      ]
     },
     "execution_count": 239,
     "metadata": {},
     "output_type": "execute_result"
    }
   ],
   "source": [
    "y_predict_xgb"
   ]
  },
  {
   "cell_type": "code",
   "execution_count": 240,
   "metadata": {},
   "outputs": [],
   "source": [
    "df3=pd.DataFrame(y_predict_xgb)"
   ]
  },
  {
   "cell_type": "code",
   "execution_count": 241,
   "metadata": {},
   "outputs": [
    {
     "data": {
      "text/plain": [
       "<AxesSubplot:xlabel='0'>"
      ]
     },
     "execution_count": 241,
     "metadata": {},
     "output_type": "execute_result"
    },
    {
     "data": {
      "image/png": "[encoded data removed]",
      "text/plain": [
       "<Figure size 432x288 with 1 Axes>"
      ]
     },
     "metadata": {
      "needs_background": "light"
     },
     "output_type": "display_data"
    }
   ],
   "source": [
    "df3.value_counts().plot.bar()"
   ]
  },
  {
   "cell_type": "code",
   "execution_count": 242,
   "metadata": {},
   "outputs": [
    {
     "data": {
      "text/plain": [
       "1    7924\n",
       "2     341\n",
       "0     238\n",
       "dtype: int64"
      ]
     },
     "execution_count": 242,
     "metadata": {},
     "output_type": "execute_result"
    }
   ],
   "source": [
    "df3.value_counts()"
   ]
  },
  {
   "cell_type": "code",
   "execution_count": 243,
   "metadata": {
    "scrolled": true
   },
   "outputs": [
    {
     "name": "stdout",
     "output_type": "stream",
     "text": [
      "0.9608373515229919\n",
      "              precision    recall  f1-score   support\n",
      "\n",
      "           0       0.64      0.68      0.66       224\n",
      "           1       0.99      0.97      0.98      8035\n",
      "           2       0.59      0.82      0.69       244\n",
      "\n",
      "    accuracy                           0.96      8503\n",
      "   macro avg       0.74      0.83      0.77      8503\n",
      "weighted avg       0.97      0.96      0.96      8503\n",
      "\n"
     ]
    }
   ],
   "source": [
    "# Finding accuracy, precision, recall and confusion matrix\n",
    "print(accuracy_score(y_test,y_predict_xgb))\n",
    "print(classification_report(y_test,y_predict_xgb))"
   ]
  },
  {
   "cell_type": "code",
   "execution_count": 244,
   "metadata": {},
   "outputs": [
    {
     "name": "stdout",
     "output_type": "stream",
     "text": [
      "[[ 152   68    4]\n",
      " [  82 7817  136]\n",
      " [   4   39  201]]\n"
     ]
    }
   ],
   "source": [
    "cfXGB_matrix=confusion_matrix(y_test,y_predict_xgb)\n",
    "print(cfXGB_matrix)"
   ]
  },
  {
   "cell_type": "code",
   "execution_count": 245,
   "metadata": {},
   "outputs": [
    {
     "data": {
      "text/plain": [
       "<AxesSubplot:>"
      ]
     },
     "execution_count": 245,
     "metadata": {},
     "output_type": "execute_result"
    },
    {
     "data": {
      "image/png": "[encoded data removed]",
      "text/plain": [
       "<Figure size 432x288 with 2 Axes>"
      ]
     },
     "metadata": {
      "needs_background": "light"
     },
     "output_type": "display_data"
    }
   ],
   "source": [
    "sns.heatmap(cfXGB_matrix/np.sum(cfXGB_matrix), annot=True, \n",
    "            fmt='.2%', cmap='RdBu')"
   ]
  },
  {
   "cell_type": "code",
   "execution_count": 246,
   "metadata": {},
   "outputs": [],
   "source": [
    "accuracy_XGB=(148+7854+193)/(8503)*100"
   ]
  },
  {
   "cell_type": "code",
   "execution_count": 247,
   "metadata": {},
   "outputs": [
    {
     "data": {
      "text/plain": [
       "96.3777490297542"
      ]
     },
     "execution_count": 247,
     "metadata": {},
     "output_type": "execute_result"
    }
   ],
   "source": [
    "accuracy_XGB"
   ]
  },
  {
   "cell_type": "code",
   "execution_count": 248,
   "metadata": {},
   "outputs": [
    {
     "name": "stderr",
     "output_type": "stream",
     "text": [
      "C:\\Users\\91830\\anaconda3\\lib\\site-packages\\xgboost\\sklearn.py:888: UserWarning: The use of label encoder in XGBClassifier is deprecated and will be removed in a future release. To remove this warning, do the following: 1) Pass option use_label_encoder=False when constructing XGBClassifier object; and 2) Encode your labels (y) as integers starting with 0, i.e. 0, 1, 2, ..., [num_class - 1].\n",
      "  warnings.warn(label_encoder_deprecation_msg, UserWarning)\n"
     ]
    },
    {
     "name": "stdout",
     "output_type": "stream",
     "text": [
      "[23:03:31] WARNING: C:/Users/Administrator/workspace/xgboost-win64_release_1.3.0/src/learner.cc:1061: Starting in XGBoost 1.3.0, the default evaluation metric used with the objective 'multi:softprob' was changed from 'merror' to 'mlogloss'. Explicitly set eval_metric if you'd like to restore the old behavior.\n",
      "Accuracy: 1.0\n",
      "[[ 2098     0     0]\n",
      " [    0 80652     0]\n",
      " [    0     0  2277]]\n"
     ]
    }
   ],
   "source": [
    "XGB = XGBClassifier()\n",
    "# Train the model using the training sets\n",
    "XGB.fit(X_train, y_train)\n",
    "\n",
    "# prediction on test set\n",
    "y_pred = XGB.predict(X_train)\n",
    "\n",
    "# Calculate Model Accuracy,\n",
    "print(\"Accuracy:\", accuracy_score(y_train, y_pred))\n",
    "XGB_matrix=confusion_matrix(y_train,y_pred)\n",
    "print(XGB_matrix)"
   ]
  },
  {
   "cell_type": "markdown",
   "metadata": {},
   "source": [
    "### multilayer perceptron (MLP)\n",
    "* used to create mathematical models by regression analysis.\n",
    "* As classification is a particular case of regression when the response variable is categorical, MLPs make good classifier algorithms."
   ]
  },
  {
   "cell_type": "code",
   "execution_count": 249,
   "metadata": {},
   "outputs": [],
   "source": [
    "# Training the model\n",
    "from sklearn.neural_network import MLPClassifier\n",
    "mlp = MLPClassifier()"
   ]
  },
  {
   "cell_type": "code",
   "execution_count": null,
   "metadata": {},
   "outputs": [],
   "source": [
    "model_mlp=mlp.fit(X_train_smote_new,y_train_smote)"
   ]
  },
  {
   "cell_type": "code",
   "execution_count": 251,
   "metadata": {},
   "outputs": [],
   "source": [
    "# Predicting the model\n",
    "y_predict_mlp = model_mlp.predict(X_test_new)"
   ]
  },
  {
   "cell_type": "code",
   "execution_count": 252,
   "metadata": {},
   "outputs": [
    {
     "data": {
      "text/plain": [
       "array([1, 0, 1, ..., 1, 1, 1])"
      ]
     },
     "execution_count": 252,
     "metadata": {},
     "output_type": "execute_result"
    }
   ],
   "source": [
    "y_predict_mlp"
   ]
  },
  {
   "cell_type": "code",
   "execution_count": 253,
   "metadata": {},
   "outputs": [],
   "source": [
    "df4=pd.DataFrame(y_predict_mlp)"
   ]
  },
  {
   "cell_type": "code",
   "execution_count": 254,
   "metadata": {},
   "outputs": [
    {
     "data": {
      "text/plain": [
       "<AxesSubplot:xlabel='0'>"
      ]
     },
     "execution_count": 254,
     "metadata": {},
     "output_type": "execute_result"
    },
    {
     "data": {
      "image/png": "[encoded data removed]",
      "text/plain": [
       "<Figure size 432x288 with 1 Axes>"
      ]
     },
     "metadata": {
      "needs_background": "light"
     },
     "output_type": "display_data"
    }
   ],
   "source": [
    "df4.value_counts().plot.bar()"
   ]
  },
  {
   "cell_type": "code",
   "execution_count": 255,
   "metadata": {},
   "outputs": [
    {
     "data": {
      "text/plain": [
       "1    5228\n",
       "2    1770\n",
       "0    1505\n",
       "dtype: int64"
      ]
     },
     "execution_count": 255,
     "metadata": {},
     "output_type": "execute_result"
    }
   ],
   "source": [
    "df4.value_counts()"
   ]
  },
  {
   "cell_type": "code",
   "execution_count": 256,
   "metadata": {},
   "outputs": [
    {
     "name": "stdout",
     "output_type": "stream",
     "text": [
      "0.6416558861578266\n",
      "              precision    recall  f1-score   support\n",
      "\n",
      "           0       0.09      0.63      0.16       224\n",
      "           1       0.98      0.64      0.77      8035\n",
      "           2       0.11      0.79      0.19       244\n",
      "\n",
      "    accuracy                           0.64      8503\n",
      "   macro avg       0.39      0.69      0.38      8503\n",
      "weighted avg       0.93      0.64      0.74      8503\n",
      "\n"
     ]
    }
   ],
   "source": [
    "# Finding accuracy, precision, recall and confusion matrix\n",
    "print(accuracy_score(y_test,y_predict_mlp))\n",
    "print(classification_report(y_test,y_predict_mlp))"
   ]
  },
  {
   "cell_type": "code",
   "execution_count": 257,
   "metadata": {},
   "outputs": [
    {
     "name": "stdout",
     "output_type": "stream",
     "text": [
      "[[ 141   62   21]\n",
      " [1357 5122 1556]\n",
      " [   7   44  193]]\n"
     ]
    }
   ],
   "source": [
    "cfmlp_matrix=confusion_matrix(y_test,y_predict_mlp)\n",
    "print(cfmlp_matrix)"
   ]
  },
  {
   "cell_type": "code",
   "execution_count": 258,
   "metadata": {
    "scrolled": true
   },
   "outputs": [
    {
     "data": {
      "text/plain": [
       "<AxesSubplot:>"
      ]
     },
     "execution_count": 258,
     "metadata": {},
     "output_type": "execute_result"
    },
    {
     "data": {
      "image/png": "[encoded data removed]",
      "text/plain": [
       "<Figure size 432x288 with 2 Axes>"
      ]
     },
     "metadata": {
      "needs_background": "light"
     },
     "output_type": "display_data"
    }
   ],
   "source": [
    "sns.heatmap(cfmlp_matrix/np.sum(cfmlp_matrix), annot=True, \n",
    "            fmt='.2%', cmap='RdBu')"
   ]
  },
  {
   "cell_type": "code",
   "execution_count": 259,
   "metadata": {},
   "outputs": [],
   "source": [
    "accuracy_mlp = (165+4772+176)/(8503)*100"
   ]
  },
  {
   "cell_type": "code",
   "execution_count": 260,
   "metadata": {},
   "outputs": [
    {
     "data": {
      "text/plain": [
       "60.13171821709985"
      ]
     },
     "execution_count": 260,
     "metadata": {},
     "output_type": "execute_result"
    }
   ],
   "source": [
    "accuracy_mlp"
   ]
  },
  {
   "cell_type": "code",
   "execution_count": 261,
   "metadata": {},
   "outputs": [
    {
     "name": "stdout",
     "output_type": "stream",
     "text": [
      "Accuracy: 0.9923436085008291\n",
      "[[ 1837   261     0]\n",
      " [   53 80507    92]\n",
      " [    0   245  2032]]\n"
     ]
    }
   ],
   "source": [
    "model_mlp= MLPClassifier()\n",
    "# Train the model using the training sets\n",
    "model_mlp.fit(X_train, y_train)\n",
    "\n",
    "# prediction on test set\n",
    "y_pred = model_mlp.predict(X_train)\n",
    "\n",
    "# Calculate Model Accuracy,\n",
    "print(\"Accuracy:\", accuracy_score(y_train, y_pred))\n",
    "model_mlp_matrix=confusion_matrix(y_train,y_pred)\n",
    "print(model_mlp_matrix)"
   ]
  },
  {
   "cell_type": "code",
   "execution_count": null,
   "metadata": {},
   "outputs": [],
   "source": []
  },
  {
   "cell_type": "markdown",
   "metadata": {},
   "source": [
    "###  Naive Bayes "
   ]
  },
  {
   "cell_type": "markdown",
   "metadata": {},
   "source": [
    "   * GaussianNb===> It's specifically used when the features have continuous values. It's also assumed that all the features are following a gaussian distribution i.e, normal distribution.\n",
    "    \n",
    "    \n",
    "   * Multinomial Naive Bayes algorithm ====>is a probabilistic learning method that is mostly used in Natural Language Processing (NLP). The algorithm is based on the Bayes theorem and predicts the tag of a text such as a piece of email or newspaper article."
   ]
  },
  {
   "cell_type": "code",
   "execution_count": 262,
   "metadata": {},
   "outputs": [],
   "source": [
    "from sklearn.naive_bayes import GaussianNB\n",
    "from sklearn.naive_bayes import MultinomialNB"
   ]
  },
  {
   "cell_type": "code",
   "execution_count": 263,
   "metadata": {},
   "outputs": [],
   "source": [
    "sgnb = GaussianNB()\n",
    "smnb = MultinomialNB()"
   ]
  },
  {
   "cell_type": "code",
   "execution_count": 264,
   "metadata": {},
   "outputs": [],
   "source": [
    "spred_gnb = sgnb.fit(X_train_smote_new,y_train_smote)"
   ]
  },
  {
   "cell_type": "code",
   "execution_count": 265,
   "metadata": {},
   "outputs": [],
   "source": [
    "# Predicting the model\n",
    "y_predict_sgnb = spred_gnb.predict(X_test_new)"
   ]
  },
  {
   "cell_type": "code",
   "execution_count": 266,
   "metadata": {},
   "outputs": [
    {
     "data": {
      "text/plain": [
       "array([0, 0, 2, ..., 2, 2, 2])"
      ]
     },
     "execution_count": 266,
     "metadata": {},
     "output_type": "execute_result"
    }
   ],
   "source": [
    "y_predict_sgnb"
   ]
  },
  {
   "cell_type": "code",
   "execution_count": 267,
   "metadata": {},
   "outputs": [],
   "source": [
    "df5=pd.DataFrame(y_predict_sgnb)"
   ]
  },
  {
   "cell_type": "code",
   "execution_count": 268,
   "metadata": {},
   "outputs": [
    {
     "data": {
      "text/plain": [
       "<AxesSubplot:xlabel='0'>"
      ]
     },
     "execution_count": 268,
     "metadata": {},
     "output_type": "execute_result"
    },
    {
     "data": {
      "image/png": "[encoded data removed]",
      "text/plain": [
       "<Figure size 432x288 with 1 Axes>"
      ]
     },
     "metadata": {
      "needs_background": "light"
     },
     "output_type": "display_data"
    }
   ],
   "source": [
    "df5.value_counts().plot.bar()"
   ]
  },
  {
   "cell_type": "code",
   "execution_count": 269,
   "metadata": {},
   "outputs": [
    {
     "data": {
      "text/plain": [
       "2    3798\n",
       "0    2611\n",
       "1    2094\n",
       "dtype: int64"
      ]
     },
     "execution_count": 269,
     "metadata": {},
     "output_type": "execute_result"
    }
   ],
   "source": [
    "df5.value_counts()"
   ]
  },
  {
   "cell_type": "code",
   "execution_count": 270,
   "metadata": {},
   "outputs": [
    {
     "name": "stdout",
     "output_type": "stream",
     "text": [
      "0.2684934728919205\n",
      "              precision    recall  f1-score   support\n",
      "\n",
      "           0       0.04      0.46      0.07       224\n",
      "           1       0.96      0.25      0.40      8035\n",
      "           2       0.04      0.67      0.08       244\n",
      "\n",
      "    accuracy                           0.27      8503\n",
      "   macro avg       0.35      0.46      0.18      8503\n",
      "weighted avg       0.91      0.27      0.38      8503\n",
      "\n"
     ]
    }
   ],
   "source": [
    "# Finding accuracy, precision, recall and confusion matrix\n",
    "print(accuracy_score(y_test,y_predict_sgnb))\n",
    "print(classification_report(y_test,y_predict_sgnb))"
   ]
  },
  {
   "cell_type": "code",
   "execution_count": 271,
   "metadata": {},
   "outputs": [
    {
     "name": "stdout",
     "output_type": "stream",
     "text": [
      "[[ 103   38   83]\n",
      " [2468 2016 3551]\n",
      " [  40   40  164]]\n"
     ]
    }
   ],
   "source": [
    "cfsgnb_matrix=confusion_matrix(y_test,y_predict_sgnb )\n",
    "print(cfsgnb_matrix)"
   ]
  },
  {
   "cell_type": "code",
   "execution_count": 272,
   "metadata": {
    "scrolled": true
   },
   "outputs": [
    {
     "data": {
      "text/plain": [
       "<AxesSubplot:>"
      ]
     },
     "execution_count": 272,
     "metadata": {},
     "output_type": "execute_result"
    },
    {
     "data": {
      "image/png": "[encoded data removed]",
      "text/plain": [
       "<Figure size 432x288 with 2 Axes>"
      ]
     },
     "metadata": {
      "needs_background": "light"
     },
     "output_type": "display_data"
    }
   ],
   "source": [
    "sns.heatmap(cfsgnb_matrix/np.sum(cfsgnb_matrix), annot=True, \n",
    "            fmt='.2%', cmap='RdBu')"
   ]
  },
  {
   "cell_type": "code",
   "execution_count": 273,
   "metadata": {},
   "outputs": [],
   "source": [
    "accuracy_gnb = (86+2097+144)/(8503)*100"
   ]
  },
  {
   "cell_type": "code",
   "execution_count": 274,
   "metadata": {},
   "outputs": [
    {
     "data": {
      "text/plain": [
       "27.366811713512877"
      ]
     },
     "execution_count": 274,
     "metadata": {},
     "output_type": "execute_result"
    }
   ],
   "source": [
    "accuracy_gnb"
   ]
  },
  {
   "cell_type": "code",
   "execution_count": null,
   "metadata": {},
   "outputs": [],
   "source": [
    "spred_gnb= MLPClassifier()\n",
    "# Train the model using the training sets\n",
    "model_mlp.fit(X_train, y_train)\n",
    "\n",
    "# prediction on test set\n",
    "y_pred = model_mlp.predict(X_train)\n",
    "\n",
    "# Calculate Model Accuracy,\n",
    "print(\"Accuracy:\", accuracy_score(y_train, y_pred))\n",
    "model_mlp_matrix=confusion_matrix(y_train,y_pred)\n",
    "print(model_mlp_matrix)"
   ]
  },
  {
   "cell_type": "code",
   "execution_count": null,
   "metadata": {},
   "outputs": [],
   "source": [
    "spred_mnb = smnb.fit(X_train_smote_new,y_train_smote)"
   ]
  },
  {
   "cell_type": "code",
   "execution_count": null,
   "metadata": {},
   "outputs": [],
   "source": [
    "# Predicting the model\n",
    "y_predict_smnb = spred_mnb.predict(X_test_new)"
   ]
  },
  {
   "cell_type": "code",
   "execution_count": null,
   "metadata": {},
   "outputs": [],
   "source": [
    "y_predict_smnb"
   ]
  },
  {
   "cell_type": "code",
   "execution_count": null,
   "metadata": {},
   "outputs": [],
   "source": [
    "df6=pd.DataFrame(y_predict_smnb)"
   ]
  },
  {
   "cell_type": "code",
   "execution_count": null,
   "metadata": {},
   "outputs": [],
   "source": [
    "df6.value_counts().plot.bar()"
   ]
  },
  {
   "cell_type": "code",
   "execution_count": null,
   "metadata": {},
   "outputs": [],
   "source": [
    "df6.value_counts()"
   ]
  },
  {
   "cell_type": "code",
   "execution_count": null,
   "metadata": {},
   "outputs": [],
   "source": [
    "# Finding accuracy, precision, recall and confusion matrix\n",
    "print(accuracy_score(y_test,y_predict_smnb))\n",
    "print(classification_report(y_test,y_predict_smnb))"
   ]
  },
  {
   "cell_type": "code",
   "execution_count": null,
   "metadata": {},
   "outputs": [],
   "source": [
    "cfmnb_matrix=confusion_matrix(y_test,y_predict_smnb)\n",
    "print(cfmnb_matrix)"
   ]
  },
  {
   "cell_type": "code",
   "execution_count": null,
   "metadata": {
    "scrolled": true
   },
   "outputs": [],
   "source": [
    "sns.heatmap(cfmnb_matrix/np.sum(cfmnb_matrix), annot=True, \n",
    "            fmt='.2%', cmap='RdBu')"
   ]
  },
  {
   "cell_type": "code",
   "execution_count": null,
   "metadata": {},
   "outputs": [],
   "source": [
    "accuracy_mnb =(89+1540+161)/(8503)*100"
   ]
  },
  {
   "cell_type": "code",
   "execution_count": null,
   "metadata": {},
   "outputs": [],
   "source": [
    "accuracy_mnb "
   ]
  },
  {
   "cell_type": "code",
   "execution_count": null,
   "metadata": {},
   "outputs": [],
   "source": [
    "model_mlp= MLPClassifier()\n",
    "# Train the model using the training sets\n",
    "model_mlp.fit(X_train, y_train)\n",
    "\n",
    "# prediction on test set\n",
    "y_pred = model_mlp.predict(X_train)\n",
    "\n",
    "# Calculate Model Accuracy,\n",
    "print(\"Accuracy:\", accuracy_score(y_train, y_pred))\n",
    "model_mlp_matrix=confusion_matrix(y_train,y_pred)\n",
    "print(model_mlp_matrix)"
   ]
  },
  {
   "cell_type": "code",
   "execution_count": null,
   "metadata": {},
   "outputs": [],
   "source": [
    "data = {\"MODEL\":pd.Series([\"model_rf\",\"model_dtree\",\"model_xgb\",\"model_knn\",\"model_mlp\",\"spred_gnb \",\"spred_mnb\"]),\n",
    "        \"Accuracy\":pd.Series([accuracy_rf,accuracy_dtree,accuracy_XGB,accuracy_knn,accuracy_mlp,accuracy_gnb,accuracy_mnb])}\n",
    "table=pd.DataFrame(data)\n",
    "table"
   ]
  },
  {
   "cell_type": "code",
   "execution_count": null,
   "metadata": {},
   "outputs": [],
   "source": [
    "import pickle as p\n",
    "p_out  = open(\"model_rf.pkl\",\"wb\")\n",
    "p.dump(model_rf, p_out)\n",
    "p_out.close()"
   ]
  },
  {
   "cell_type": "code",
   "execution_count": null,
   "metadata": {},
   "outputs": [],
   "source": []
  },
  {
   "cell_type": "code",
   "execution_count": null,
   "metadata": {},
   "outputs": [],
   "source": []
  },
  {
   "cell_type": "code",
   "execution_count": null,
   "metadata": {},
   "outputs": [],
   "source": []
  },
  {
   "cell_type": "code",
   "execution_count": null,
   "metadata": {},
   "outputs": [],
   "source": []
  },
  {
   "cell_type": "code",
   "execution_count": null,
   "metadata": {},
   "outputs": [],
   "source": []
  },
  {
   "cell_type": "code",
   "execution_count": null,
   "metadata": {},
   "outputs": [],
   "source": []
  },
  {
   "cell_type": "code",
   "execution_count": null,
   "metadata": {},
   "outputs": [],
   "source": []
  }
 ],
 "metadata": {
  "kernelspec": {
   "display_name": "Python 3",
   "language": "python",
   "name": "python3"
  },
  "language_info": {
   "codemirror_mode": {
    "name": "ipython",
    "version": 3
   },
   "file_extension": ".py",
   "mimetype": "text/x-python",
   "name": "python",
   "nbconvert_exporter": "python",
   "pygments_lexer": "ipython3",
   "version": "3.8.5"
  }
 },
 "nbformat": 4,
 "nbformat_minor": 4
}
